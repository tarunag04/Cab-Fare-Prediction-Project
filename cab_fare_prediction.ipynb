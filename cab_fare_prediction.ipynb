{
 "cells": [
  {
   "cell_type": "markdown",
   "metadata": {},
   "source": [
    "### Problem and Objective\n",
    "##### You are a cab rental start-up company. You have successfully run the pilot project and now want to launch your cab service across the country. You have collected the historical data from your pilot project and now have a requirement to apply analytics for fare prediction. You need to design a system that predicts the fare amount for a cab ride in the city."
   ]
  },
  {
   "cell_type": "code",
   "execution_count": 288,
   "metadata": {},
   "outputs": [],
   "source": [
    "# import required libraries\n",
    "import pandas as pd                  # for performing EDA\n",
    "import numpy as np                   # for Linear Algebric operations\n",
    "import matplotlib.pyplot as plt      # for Data Visualization\n",
    "import seaborn as sns                # for Data Visualization\n",
    "import os                            # getting access to input files\n",
    "from collections import Counter\n",
    "from sklearn.model_selection import train_test_split \n",
    "from sklearn.linear_model import LinearRegression\n",
    "from sklearn.tree import DecisionTreeRegressor\n",
    "from sklearn.ensemble import RandomForestRegressor\n",
    "from sklearn.ensemble import GradientBoostingRegressor \n",
    "from sklearn.metrics import mean_squared_error\n",
    "from sklearn.metrics import r2_score"
   ]
  },
  {
   "cell_type": "code",
   "execution_count": 3,
   "metadata": {},
   "outputs": [],
   "source": [
    "# working directory\n",
    "os.chdir(\"F:/edWisor/Cab_Fare_Prediction_Project\")"
   ]
  },
  {
   "cell_type": "code",
   "execution_count": 289,
   "metadata": {},
   "outputs": [],
   "source": [
    "# loading data\n",
    "train  = pd.read_csv(\"train_cab.csv\", sep=\",\")\n",
    "test   = pd.read_csv(\"test_cab.csv\", sep=\",\")"
   ]
  },
  {
   "cell_type": "code",
   "execution_count": 290,
   "metadata": {},
   "outputs": [
    {
     "data": {
      "text/html": [
       "<div>\n",
       "<style scoped>\n",
       "    .dataframe tbody tr th:only-of-type {\n",
       "        vertical-align: middle;\n",
       "    }\n",
       "\n",
       "    .dataframe tbody tr th {\n",
       "        vertical-align: top;\n",
       "    }\n",
       "\n",
       "    .dataframe thead th {\n",
       "        text-align: right;\n",
       "    }\n",
       "</style>\n",
       "<table border=\"1\" class=\"dataframe\">\n",
       "  <thead>\n",
       "    <tr style=\"text-align: right;\">\n",
       "      <th></th>\n",
       "      <th>fare_amount</th>\n",
       "      <th>pickup_datetime</th>\n",
       "      <th>pickup_longitude</th>\n",
       "      <th>pickup_latitude</th>\n",
       "      <th>dropoff_longitude</th>\n",
       "      <th>dropoff_latitude</th>\n",
       "      <th>passenger_count</th>\n",
       "    </tr>\n",
       "  </thead>\n",
       "  <tbody>\n",
       "    <tr>\n",
       "      <th>0</th>\n",
       "      <td>4.5</td>\n",
       "      <td>2009-06-15 17:26:21 UTC</td>\n",
       "      <td>-73.844311</td>\n",
       "      <td>40.721319</td>\n",
       "      <td>-73.841610</td>\n",
       "      <td>40.712278</td>\n",
       "      <td>1.0</td>\n",
       "    </tr>\n",
       "    <tr>\n",
       "      <th>1</th>\n",
       "      <td>16.9</td>\n",
       "      <td>2010-01-05 16:52:16 UTC</td>\n",
       "      <td>-74.016048</td>\n",
       "      <td>40.711303</td>\n",
       "      <td>-73.979268</td>\n",
       "      <td>40.782004</td>\n",
       "      <td>1.0</td>\n",
       "    </tr>\n",
       "    <tr>\n",
       "      <th>2</th>\n",
       "      <td>5.7</td>\n",
       "      <td>2011-08-18 00:35:00 UTC</td>\n",
       "      <td>-73.982738</td>\n",
       "      <td>40.761270</td>\n",
       "      <td>-73.991242</td>\n",
       "      <td>40.750562</td>\n",
       "      <td>2.0</td>\n",
       "    </tr>\n",
       "    <tr>\n",
       "      <th>3</th>\n",
       "      <td>7.7</td>\n",
       "      <td>2012-04-21 04:30:42 UTC</td>\n",
       "      <td>-73.987130</td>\n",
       "      <td>40.733143</td>\n",
       "      <td>-73.991567</td>\n",
       "      <td>40.758092</td>\n",
       "      <td>1.0</td>\n",
       "    </tr>\n",
       "    <tr>\n",
       "      <th>4</th>\n",
       "      <td>5.3</td>\n",
       "      <td>2010-03-09 07:51:00 UTC</td>\n",
       "      <td>-73.968095</td>\n",
       "      <td>40.768008</td>\n",
       "      <td>-73.956655</td>\n",
       "      <td>40.783762</td>\n",
       "      <td>1.0</td>\n",
       "    </tr>\n",
       "  </tbody>\n",
       "</table>\n",
       "</div>"
      ],
      "text/plain": [
       "  fare_amount          pickup_datetime  pickup_longitude  pickup_latitude  \\\n",
       "0         4.5  2009-06-15 17:26:21 UTC        -73.844311        40.721319   \n",
       "1        16.9  2010-01-05 16:52:16 UTC        -74.016048        40.711303   \n",
       "2         5.7  2011-08-18 00:35:00 UTC        -73.982738        40.761270   \n",
       "3         7.7  2012-04-21 04:30:42 UTC        -73.987130        40.733143   \n",
       "4         5.3  2010-03-09 07:51:00 UTC        -73.968095        40.768008   \n",
       "\n",
       "   dropoff_longitude  dropoff_latitude  passenger_count  \n",
       "0         -73.841610         40.712278              1.0  \n",
       "1         -73.979268         40.782004              1.0  \n",
       "2         -73.991242         40.750562              2.0  \n",
       "3         -73.991567         40.758092              1.0  \n",
       "4         -73.956655         40.783762              1.0  "
      ]
     },
     "execution_count": 290,
     "metadata": {},
     "output_type": "execute_result"
    }
   ],
   "source": [
    "train.head()"
   ]
  },
  {
   "cell_type": "code",
   "execution_count": 291,
   "metadata": {},
   "outputs": [
    {
     "data": {
      "text/html": [
       "<div>\n",
       "<style scoped>\n",
       "    .dataframe tbody tr th:only-of-type {\n",
       "        vertical-align: middle;\n",
       "    }\n",
       "\n",
       "    .dataframe tbody tr th {\n",
       "        vertical-align: top;\n",
       "    }\n",
       "\n",
       "    .dataframe thead th {\n",
       "        text-align: right;\n",
       "    }\n",
       "</style>\n",
       "<table border=\"1\" class=\"dataframe\">\n",
       "  <thead>\n",
       "    <tr style=\"text-align: right;\">\n",
       "      <th></th>\n",
       "      <th>pickup_datetime</th>\n",
       "      <th>pickup_longitude</th>\n",
       "      <th>pickup_latitude</th>\n",
       "      <th>dropoff_longitude</th>\n",
       "      <th>dropoff_latitude</th>\n",
       "      <th>passenger_count</th>\n",
       "    </tr>\n",
       "  </thead>\n",
       "  <tbody>\n",
       "    <tr>\n",
       "      <th>0</th>\n",
       "      <td>2015-01-27 13:08:24 UTC</td>\n",
       "      <td>-73.973320</td>\n",
       "      <td>40.763805</td>\n",
       "      <td>-73.981430</td>\n",
       "      <td>40.743835</td>\n",
       "      <td>1</td>\n",
       "    </tr>\n",
       "    <tr>\n",
       "      <th>1</th>\n",
       "      <td>2015-01-27 13:08:24 UTC</td>\n",
       "      <td>-73.986862</td>\n",
       "      <td>40.719383</td>\n",
       "      <td>-73.998886</td>\n",
       "      <td>40.739201</td>\n",
       "      <td>1</td>\n",
       "    </tr>\n",
       "    <tr>\n",
       "      <th>2</th>\n",
       "      <td>2011-10-08 11:53:44 UTC</td>\n",
       "      <td>-73.982524</td>\n",
       "      <td>40.751260</td>\n",
       "      <td>-73.979654</td>\n",
       "      <td>40.746139</td>\n",
       "      <td>1</td>\n",
       "    </tr>\n",
       "    <tr>\n",
       "      <th>3</th>\n",
       "      <td>2012-12-01 21:12:12 UTC</td>\n",
       "      <td>-73.981160</td>\n",
       "      <td>40.767807</td>\n",
       "      <td>-73.990448</td>\n",
       "      <td>40.751635</td>\n",
       "      <td>1</td>\n",
       "    </tr>\n",
       "    <tr>\n",
       "      <th>4</th>\n",
       "      <td>2012-12-01 21:12:12 UTC</td>\n",
       "      <td>-73.966046</td>\n",
       "      <td>40.789775</td>\n",
       "      <td>-73.988565</td>\n",
       "      <td>40.744427</td>\n",
       "      <td>1</td>\n",
       "    </tr>\n",
       "  </tbody>\n",
       "</table>\n",
       "</div>"
      ],
      "text/plain": [
       "           pickup_datetime  pickup_longitude  pickup_latitude  \\\n",
       "0  2015-01-27 13:08:24 UTC        -73.973320        40.763805   \n",
       "1  2015-01-27 13:08:24 UTC        -73.986862        40.719383   \n",
       "2  2011-10-08 11:53:44 UTC        -73.982524        40.751260   \n",
       "3  2012-12-01 21:12:12 UTC        -73.981160        40.767807   \n",
       "4  2012-12-01 21:12:12 UTC        -73.966046        40.789775   \n",
       "\n",
       "   dropoff_longitude  dropoff_latitude  passenger_count  \n",
       "0         -73.981430         40.743835                1  \n",
       "1         -73.998886         40.739201                1  \n",
       "2         -73.979654         40.746139                1  \n",
       "3         -73.990448         40.751635                1  \n",
       "4         -73.988565         40.744427                1  "
      ]
     },
     "execution_count": 291,
     "metadata": {},
     "output_type": "execute_result"
    }
   ],
   "source": [
    "test.head()"
   ]
  },
  {
   "cell_type": "code",
   "execution_count": 292,
   "metadata": {},
   "outputs": [
    {
     "data": {
      "text/plain": [
       "fare_amount           object\n",
       "pickup_datetime       object\n",
       "pickup_longitude     float64\n",
       "pickup_latitude      float64\n",
       "dropoff_longitude    float64\n",
       "dropoff_latitude     float64\n",
       "passenger_count      float64\n",
       "dtype: object"
      ]
     },
     "execution_count": 292,
     "metadata": {},
     "output_type": "execute_result"
    }
   ],
   "source": [
    "train.dtypes"
   ]
  },
  {
   "cell_type": "code",
   "execution_count": 293,
   "metadata": {},
   "outputs": [
    {
     "data": {
      "text/plain": [
       "pickup_datetime       object\n",
       "pickup_longitude     float64\n",
       "pickup_latitude      float64\n",
       "dropoff_longitude    float64\n",
       "dropoff_latitude     float64\n",
       "passenger_count        int64\n",
       "dtype: object"
      ]
     },
     "execution_count": 293,
     "metadata": {},
     "output_type": "execute_result"
    }
   ],
   "source": [
    "test.dtypes"
   ]
  },
  {
   "cell_type": "code",
   "execution_count": 294,
   "metadata": {},
   "outputs": [
    {
     "data": {
      "text/plain": [
       "(16067, 7)"
      ]
     },
     "execution_count": 294,
     "metadata": {},
     "output_type": "execute_result"
    }
   ],
   "source": [
    "# checking size of train data\n",
    "train.shape"
   ]
  },
  {
   "cell_type": "code",
   "execution_count": 295,
   "metadata": {},
   "outputs": [
    {
     "data": {
      "text/plain": [
       "(9914, 6)"
      ]
     },
     "execution_count": 295,
     "metadata": {},
     "output_type": "execute_result"
    }
   ],
   "source": [
    "# checking size of test data\n",
    "test.shape"
   ]
  },
  {
   "cell_type": "code",
   "execution_count": 296,
   "metadata": {},
   "outputs": [
    {
     "data": {
      "text/html": [
       "<div>\n",
       "<style scoped>\n",
       "    .dataframe tbody tr th:only-of-type {\n",
       "        vertical-align: middle;\n",
       "    }\n",
       "\n",
       "    .dataframe tbody tr th {\n",
       "        vertical-align: top;\n",
       "    }\n",
       "\n",
       "    .dataframe thead th {\n",
       "        text-align: right;\n",
       "    }\n",
       "</style>\n",
       "<table border=\"1\" class=\"dataframe\">\n",
       "  <thead>\n",
       "    <tr style=\"text-align: right;\">\n",
       "      <th></th>\n",
       "      <th>pickup_longitude</th>\n",
       "      <th>pickup_latitude</th>\n",
       "      <th>dropoff_longitude</th>\n",
       "      <th>dropoff_latitude</th>\n",
       "      <th>passenger_count</th>\n",
       "    </tr>\n",
       "  </thead>\n",
       "  <tbody>\n",
       "    <tr>\n",
       "      <th>count</th>\n",
       "      <td>16067.000000</td>\n",
       "      <td>16067.000000</td>\n",
       "      <td>16067.000000</td>\n",
       "      <td>16067.000000</td>\n",
       "      <td>16012.000000</td>\n",
       "    </tr>\n",
       "    <tr>\n",
       "      <th>mean</th>\n",
       "      <td>-72.462787</td>\n",
       "      <td>39.914725</td>\n",
       "      <td>-72.462328</td>\n",
       "      <td>39.897906</td>\n",
       "      <td>2.625070</td>\n",
       "    </tr>\n",
       "    <tr>\n",
       "      <th>std</th>\n",
       "      <td>10.578384</td>\n",
       "      <td>6.826587</td>\n",
       "      <td>10.575062</td>\n",
       "      <td>6.187087</td>\n",
       "      <td>60.844122</td>\n",
       "    </tr>\n",
       "    <tr>\n",
       "      <th>min</th>\n",
       "      <td>-74.438233</td>\n",
       "      <td>-74.006893</td>\n",
       "      <td>-74.429332</td>\n",
       "      <td>-74.006377</td>\n",
       "      <td>0.000000</td>\n",
       "    </tr>\n",
       "    <tr>\n",
       "      <th>25%</th>\n",
       "      <td>-73.992156</td>\n",
       "      <td>40.734927</td>\n",
       "      <td>-73.991182</td>\n",
       "      <td>40.734651</td>\n",
       "      <td>1.000000</td>\n",
       "    </tr>\n",
       "    <tr>\n",
       "      <th>50%</th>\n",
       "      <td>-73.981698</td>\n",
       "      <td>40.752603</td>\n",
       "      <td>-73.980172</td>\n",
       "      <td>40.753567</td>\n",
       "      <td>1.000000</td>\n",
       "    </tr>\n",
       "    <tr>\n",
       "      <th>75%</th>\n",
       "      <td>-73.966838</td>\n",
       "      <td>40.767381</td>\n",
       "      <td>-73.963643</td>\n",
       "      <td>40.768013</td>\n",
       "      <td>2.000000</td>\n",
       "    </tr>\n",
       "    <tr>\n",
       "      <th>max</th>\n",
       "      <td>40.766125</td>\n",
       "      <td>401.083332</td>\n",
       "      <td>40.802437</td>\n",
       "      <td>41.366138</td>\n",
       "      <td>5345.000000</td>\n",
       "    </tr>\n",
       "  </tbody>\n",
       "</table>\n",
       "</div>"
      ],
      "text/plain": [
       "       pickup_longitude  pickup_latitude  dropoff_longitude  dropoff_latitude  \\\n",
       "count      16067.000000     16067.000000       16067.000000      16067.000000   \n",
       "mean         -72.462787        39.914725         -72.462328         39.897906   \n",
       "std           10.578384         6.826587          10.575062          6.187087   \n",
       "min          -74.438233       -74.006893         -74.429332        -74.006377   \n",
       "25%          -73.992156        40.734927         -73.991182         40.734651   \n",
       "50%          -73.981698        40.752603         -73.980172         40.753567   \n",
       "75%          -73.966838        40.767381         -73.963643         40.768013   \n",
       "max           40.766125       401.083332          40.802437         41.366138   \n",
       "\n",
       "       passenger_count  \n",
       "count     16012.000000  \n",
       "mean          2.625070  \n",
       "std          60.844122  \n",
       "min           0.000000  \n",
       "25%           1.000000  \n",
       "50%           1.000000  \n",
       "75%           2.000000  \n",
       "max        5345.000000  "
      ]
     },
     "execution_count": 296,
     "metadata": {},
     "output_type": "execute_result"
    }
   ],
   "source": [
    "train.describe()"
   ]
  },
  {
   "cell_type": "code",
   "execution_count": 297,
   "metadata": {},
   "outputs": [
    {
     "data": {
      "text/html": [
       "<div>\n",
       "<style scoped>\n",
       "    .dataframe tbody tr th:only-of-type {\n",
       "        vertical-align: middle;\n",
       "    }\n",
       "\n",
       "    .dataframe tbody tr th {\n",
       "        vertical-align: top;\n",
       "    }\n",
       "\n",
       "    .dataframe thead th {\n",
       "        text-align: right;\n",
       "    }\n",
       "</style>\n",
       "<table border=\"1\" class=\"dataframe\">\n",
       "  <thead>\n",
       "    <tr style=\"text-align: right;\">\n",
       "      <th></th>\n",
       "      <th>pickup_longitude</th>\n",
       "      <th>pickup_latitude</th>\n",
       "      <th>dropoff_longitude</th>\n",
       "      <th>dropoff_latitude</th>\n",
       "      <th>passenger_count</th>\n",
       "    </tr>\n",
       "  </thead>\n",
       "  <tbody>\n",
       "    <tr>\n",
       "      <th>count</th>\n",
       "      <td>9914.000000</td>\n",
       "      <td>9914.000000</td>\n",
       "      <td>9914.000000</td>\n",
       "      <td>9914.000000</td>\n",
       "      <td>9914.000000</td>\n",
       "    </tr>\n",
       "    <tr>\n",
       "      <th>mean</th>\n",
       "      <td>-73.974722</td>\n",
       "      <td>40.751041</td>\n",
       "      <td>-73.973657</td>\n",
       "      <td>40.751743</td>\n",
       "      <td>1.671273</td>\n",
       "    </tr>\n",
       "    <tr>\n",
       "      <th>std</th>\n",
       "      <td>0.042774</td>\n",
       "      <td>0.033541</td>\n",
       "      <td>0.039072</td>\n",
       "      <td>0.035435</td>\n",
       "      <td>1.278747</td>\n",
       "    </tr>\n",
       "    <tr>\n",
       "      <th>min</th>\n",
       "      <td>-74.252193</td>\n",
       "      <td>40.573143</td>\n",
       "      <td>-74.263242</td>\n",
       "      <td>40.568973</td>\n",
       "      <td>1.000000</td>\n",
       "    </tr>\n",
       "    <tr>\n",
       "      <th>25%</th>\n",
       "      <td>-73.992501</td>\n",
       "      <td>40.736125</td>\n",
       "      <td>-73.991247</td>\n",
       "      <td>40.735254</td>\n",
       "      <td>1.000000</td>\n",
       "    </tr>\n",
       "    <tr>\n",
       "      <th>50%</th>\n",
       "      <td>-73.982326</td>\n",
       "      <td>40.753051</td>\n",
       "      <td>-73.980015</td>\n",
       "      <td>40.754065</td>\n",
       "      <td>1.000000</td>\n",
       "    </tr>\n",
       "    <tr>\n",
       "      <th>75%</th>\n",
       "      <td>-73.968013</td>\n",
       "      <td>40.767113</td>\n",
       "      <td>-73.964059</td>\n",
       "      <td>40.768757</td>\n",
       "      <td>2.000000</td>\n",
       "    </tr>\n",
       "    <tr>\n",
       "      <th>max</th>\n",
       "      <td>-72.986532</td>\n",
       "      <td>41.709555</td>\n",
       "      <td>-72.990963</td>\n",
       "      <td>41.696683</td>\n",
       "      <td>6.000000</td>\n",
       "    </tr>\n",
       "  </tbody>\n",
       "</table>\n",
       "</div>"
      ],
      "text/plain": [
       "       pickup_longitude  pickup_latitude  dropoff_longitude  dropoff_latitude  \\\n",
       "count       9914.000000      9914.000000        9914.000000       9914.000000   \n",
       "mean         -73.974722        40.751041         -73.973657         40.751743   \n",
       "std            0.042774         0.033541           0.039072          0.035435   \n",
       "min          -74.252193        40.573143         -74.263242         40.568973   \n",
       "25%          -73.992501        40.736125         -73.991247         40.735254   \n",
       "50%          -73.982326        40.753051         -73.980015         40.754065   \n",
       "75%          -73.968013        40.767113         -73.964059         40.768757   \n",
       "max          -72.986532        41.709555         -72.990963         41.696683   \n",
       "\n",
       "       passenger_count  \n",
       "count      9914.000000  \n",
       "mean          1.671273  \n",
       "std           1.278747  \n",
       "min           1.000000  \n",
       "25%           1.000000  \n",
       "50%           1.000000  \n",
       "75%           2.000000  \n",
       "max           6.000000  "
      ]
     },
     "execution_count": 297,
     "metadata": {},
     "output_type": "execute_result"
    }
   ],
   "source": [
    "test.describe()"
   ]
  },
  {
   "cell_type": "markdown",
   "metadata": {},
   "source": [
    "### Data cleaning, missing value and outlier analysis"
   ]
  },
  {
   "cell_type": "code",
   "execution_count": 298,
   "metadata": {},
   "outputs": [],
   "source": [
    "# changing datatype of pickup_datetime variable from object to datetime\n",
    "train['pickup_datetime'] =  pd.to_datetime(train['pickup_datetime'], format='%Y-%m-%d %H:%M:%S UTC', errors='coerce')"
   ]
  },
  {
   "cell_type": "code",
   "execution_count": 299,
   "metadata": {},
   "outputs": [
    {
     "name": "stdout",
     "output_type": "stream",
     "text": [
      "1\n"
     ]
    }
   ],
   "source": [
    "print(train['pickup_datetime'].isnull().sum())"
   ]
  },
  {
   "cell_type": "code",
   "execution_count": 300,
   "metadata": {},
   "outputs": [],
   "source": [
    "# one value is null in pickup_datetime variable, so drop it.\n",
    "train = train.drop(train[train['pickup_datetime'].isnull()].index, axis=0)"
   ]
  },
  {
   "cell_type": "code",
   "execution_count": 301,
   "metadata": {},
   "outputs": [
    {
     "data": {
      "text/plain": [
       "(16066, 7)"
      ]
     },
     "execution_count": 301,
     "metadata": {},
     "output_type": "execute_result"
    }
   ],
   "source": [
    "train.shape"
   ]
  },
  {
   "cell_type": "code",
   "execution_count": 302,
   "metadata": {},
   "outputs": [],
   "source": [
    "# separate the pickup_datetime column into separate fields like year, month,day, day of the week, hour etc.\n",
    "train['year'] = train['pickup_datetime'].dt.year\n",
    "train['Month'] = train['pickup_datetime'].dt.month\n",
    "train['Date'] = train['pickup_datetime'].dt.day\n",
    "train['Day'] = train['pickup_datetime'].dt.dayofweek\n",
    "train['Hour'] = train['pickup_datetime'].dt.hour\n",
    "train['Minute'] = train['pickup_datetime'].dt.minute"
   ]
  },
  {
   "cell_type": "code",
   "execution_count": 303,
   "metadata": {},
   "outputs": [
    {
     "data": {
      "text/plain": [
       "fare_amount                  object\n",
       "pickup_datetime      datetime64[ns]\n",
       "pickup_longitude            float64\n",
       "pickup_latitude             float64\n",
       "dropoff_longitude           float64\n",
       "dropoff_latitude            float64\n",
       "passenger_count             float64\n",
       "year                          int64\n",
       "Month                         int64\n",
       "Date                          int64\n",
       "Day                           int64\n",
       "Hour                          int64\n",
       "Minute                        int64\n",
       "dtype: object"
      ]
     },
     "execution_count": 303,
     "metadata": {},
     "output_type": "execute_result"
    }
   ],
   "source": [
    "train.dtypes"
   ]
  },
  {
   "cell_type": "code",
   "execution_count": 304,
   "metadata": {},
   "outputs": [
    {
     "name": "stdout",
     "output_type": "stream",
     "text": [
      "0\n",
      "0\n",
      "0\n",
      "0\n",
      "0\n",
      "0\n",
      "0\n"
     ]
    }
   ],
   "source": [
    "# checking null values\n",
    "print(train['pickup_datetime'].isnull().sum())\n",
    "print(train['year'].isnull().sum())\n",
    "print(train['Month'].isnull().sum())\n",
    "print(train['Date'].isnull().sum())\n",
    "print(train['Day'].isnull().sum())\n",
    "print(train['Hour'].isnull().sum())\n",
    "print(train['Minute'].isnull().sum())"
   ]
  },
  {
   "cell_type": "code",
   "execution_count": 305,
   "metadata": {},
   "outputs": [],
   "source": [
    "# for test data\n",
    "# changing datatype of pickup_datetime variable from object to datetime\n",
    "test['pickup_datetime'] =  pd.to_datetime(test['pickup_datetime'], format='%Y-%m-%d %H:%M:%S UTC', errors='coerce')"
   ]
  },
  {
   "cell_type": "code",
   "execution_count": 306,
   "metadata": {},
   "outputs": [],
   "source": [
    "# separate the pickup_datetime column into separate fields like year, month,day, day of the week, hour etc.\n",
    "test['year'] = test['pickup_datetime'].dt.year\n",
    "test['Month'] = test['pickup_datetime'].dt.month\n",
    "test['Date'] = test['pickup_datetime'].dt.day\n",
    "test['Day'] = test['pickup_datetime'].dt.dayofweek\n",
    "test['Hour'] = test['pickup_datetime'].dt.hour\n",
    "test['Minute'] = test['pickup_datetime'].dt.minute"
   ]
  },
  {
   "cell_type": "code",
   "execution_count": 307,
   "metadata": {},
   "outputs": [
    {
     "data": {
      "text/plain": [
       "pickup_datetime      datetime64[ns]\n",
       "pickup_longitude            float64\n",
       "pickup_latitude             float64\n",
       "dropoff_longitude           float64\n",
       "dropoff_latitude            float64\n",
       "passenger_count               int64\n",
       "year                          int64\n",
       "Month                         int64\n",
       "Date                          int64\n",
       "Day                           int64\n",
       "Hour                          int64\n",
       "Minute                        int64\n",
       "dtype: object"
      ]
     },
     "execution_count": 307,
     "metadata": {},
     "output_type": "execute_result"
    }
   ],
   "source": [
    "test.dtypes"
   ]
  },
  {
   "cell_type": "code",
   "execution_count": 308,
   "metadata": {},
   "outputs": [
    {
     "name": "stdout",
     "output_type": "stream",
     "text": [
      "0\n",
      "0\n",
      "0\n",
      "0\n",
      "0\n",
      "0\n",
      "0\n"
     ]
    }
   ],
   "source": [
    "# checking null values\n",
    "print(test['pickup_datetime'].isnull().sum())\n",
    "print(test['year'].isnull().sum())\n",
    "print(test['Month'].isnull().sum())\n",
    "print(test['Date'].isnull().sum())\n",
    "print(test['Day'].isnull().sum())\n",
    "print(test['Hour'].isnull().sum())\n",
    "print(test['Minute'].isnull().sum())"
   ]
  },
  {
   "cell_type": "code",
   "execution_count": 309,
   "metadata": {},
   "outputs": [],
   "source": [
    "# Checking the fare_amount variable\n",
    "#Converting fare_amount variable from object to numeric\n",
    "train[\"fare_amount\"] = pd.to_numeric(train[\"fare_amount\"], errors = \"coerce\")"
   ]
  },
  {
   "cell_type": "code",
   "execution_count": 310,
   "metadata": {},
   "outputs": [
    {
     "data": {
      "text/plain": [
       "fare_amount                 float64\n",
       "pickup_datetime      datetime64[ns]\n",
       "pickup_longitude            float64\n",
       "pickup_latitude             float64\n",
       "dropoff_longitude           float64\n",
       "dropoff_latitude            float64\n",
       "passenger_count             float64\n",
       "year                          int64\n",
       "Month                         int64\n",
       "Date                          int64\n",
       "Day                           int64\n",
       "Hour                          int64\n",
       "Minute                        int64\n",
       "dtype: object"
      ]
     },
     "execution_count": 310,
     "metadata": {},
     "output_type": "execute_result"
    }
   ],
   "source": [
    "train.dtypes"
   ]
  },
  {
   "cell_type": "code",
   "execution_count": 311,
   "metadata": {},
   "outputs": [
    {
     "data": {
      "text/plain": [
       "count    16041.000000\n",
       "mean        15.015223\n",
       "std        430.474362\n",
       "min         -3.000000\n",
       "25%          6.000000\n",
       "50%          8.500000\n",
       "75%         12.500000\n",
       "max      54343.000000\n",
       "Name: fare_amount, dtype: float64"
      ]
     },
     "execution_count": 311,
     "metadata": {},
     "output_type": "execute_result"
    }
   ],
   "source": [
    "train[\"fare_amount\"].describe()"
   ]
  },
  {
   "cell_type": "code",
   "execution_count": 312,
   "metadata": {},
   "outputs": [
    {
     "data": {
      "text/plain": [
       "1015    54343.0\n",
       "1072     4343.0\n",
       "607       453.0\n",
       "980       434.0\n",
       "1335      180.0\n",
       "         ...   \n",
       "1712        NaN\n",
       "2412        NaN\n",
       "2458        NaN\n",
       "8178        NaN\n",
       "8226        NaN\n",
       "Name: fare_amount, Length: 16066, dtype: float64"
      ]
     },
     "execution_count": 312,
     "metadata": {},
     "output_type": "execute_result"
    }
   ],
   "source": [
    "# sort fare_amount in decending order to check outliers\n",
    "train[\"fare_amount\"].sort_values(ascending=False)"
   ]
  },
  {
   "cell_type": "code",
   "execution_count": 313,
   "metadata": {},
   "outputs": [],
   "source": [
    "# from above, we can see that there is huge difference in first three values of fare_amount\n",
    "# first two values seems to be outlier in fare_amount, so drop them\n",
    "train = train.drop(train[train[\"fare_amount\"]> 454].index, axis=0)"
   ]
  },
  {
   "cell_type": "code",
   "execution_count": 314,
   "metadata": {},
   "outputs": [
    {
     "data": {
      "text/plain": [
       "(16064, 13)"
      ]
     },
     "execution_count": 314,
     "metadata": {},
     "output_type": "execute_result"
    }
   ],
   "source": [
    "train.shape"
   ]
  },
  {
   "cell_type": "code",
   "execution_count": 315,
   "metadata": {},
   "outputs": [
    {
     "data": {
      "text/plain": [
       "Counter({False: 16060, True: 4})"
      ]
     },
     "execution_count": 315,
     "metadata": {},
     "output_type": "execute_result"
    }
   ],
   "source": [
    "Counter(train[\"fare_amount\"]<=0)"
   ]
  },
  {
   "cell_type": "code",
   "execution_count": 316,
   "metadata": {},
   "outputs": [
    {
     "data": {
      "text/plain": [
       "(16060, 13)"
      ]
     },
     "execution_count": 316,
     "metadata": {},
     "output_type": "execute_result"
    }
   ],
   "source": [
    "# in fare_amount variable there are 4 values are present where fare is negative or zero. so drop them\n",
    "train = train.drop(train[train[\"fare_amount\"]<=0].index, axis=0)\n",
    "train.shape"
   ]
  },
  {
   "cell_type": "code",
   "execution_count": 317,
   "metadata": {},
   "outputs": [
    {
     "name": "stdout",
     "output_type": "stream",
     "text": [
      "25\n"
     ]
    }
   ],
   "source": [
    "print(train['fare_amount'].isnull().sum())"
   ]
  },
  {
   "cell_type": "code",
   "execution_count": 318,
   "metadata": {},
   "outputs": [
    {
     "data": {
      "text/plain": [
       "(16035, 13)"
      ]
     },
     "execution_count": 318,
     "metadata": {},
     "output_type": "execute_result"
    }
   ],
   "source": [
    "# there are 25 rows which includes null fare_amount value. so drop those 25 rows\n",
    "train = train.drop(train[train['fare_amount'].isnull()].index, axis=0)\n",
    "train.shape"
   ]
  },
  {
   "cell_type": "code",
   "execution_count": 319,
   "metadata": {},
   "outputs": [
    {
     "data": {
      "text/plain": [
       "count    15980.000000\n",
       "mean         2.623693\n",
       "std         60.903563\n",
       "min          0.000000\n",
       "25%          1.000000\n",
       "50%          1.000000\n",
       "75%          2.000000\n",
       "max       5345.000000\n",
       "Name: passenger_count, dtype: float64"
      ]
     },
     "execution_count": 319,
     "metadata": {},
     "output_type": "execute_result"
    }
   ],
   "source": [
    "# Checking the passenger_count variable\n",
    "train[\"passenger_count\"].describe()"
   ]
  },
  {
   "cell_type": "code",
   "execution_count": 320,
   "metadata": {},
   "outputs": [],
   "source": [
    "# any cab can not have more than 6 passengers, so we are dropping rows which includes more than 6 passengers\n",
    "train = train.drop(train[train[\"passenger_count\"]> 6].index, axis=0)"
   ]
  },
  {
   "cell_type": "code",
   "execution_count": 321,
   "metadata": {},
   "outputs": [
    {
     "data": {
      "text/plain": [
       "(16016, 13)"
      ]
     },
     "execution_count": 321,
     "metadata": {},
     "output_type": "execute_result"
    }
   ],
   "source": [
    "train.shape"
   ]
  },
  {
   "cell_type": "code",
   "execution_count": 322,
   "metadata": {},
   "outputs": [
    {
     "data": {
      "text/plain": [
       "Counter({False: 15959, True: 57})"
      ]
     },
     "execution_count": 322,
     "metadata": {},
     "output_type": "execute_result"
    }
   ],
   "source": [
    "Counter(train[\"passenger_count\"]==0)"
   ]
  },
  {
   "cell_type": "code",
   "execution_count": 323,
   "metadata": {},
   "outputs": [],
   "source": [
    "#there are 57 rows in which passenger_count is 0. the cab should have atleast 1 passenger. so drop rows having 0 passenger.\n",
    "train = train.drop(train[train[\"passenger_count\"] == 0].index, axis=0)"
   ]
  },
  {
   "cell_type": "code",
   "execution_count": 324,
   "metadata": {},
   "outputs": [
    {
     "data": {
      "text/plain": [
       "(15959, 13)"
      ]
     },
     "execution_count": 324,
     "metadata": {},
     "output_type": "execute_result"
    }
   ],
   "source": [
    "train.shape"
   ]
  },
  {
   "cell_type": "code",
   "execution_count": 325,
   "metadata": {},
   "outputs": [
    {
     "data": {
      "text/plain": [
       "8862     0.12\n",
       "0        1.00\n",
       "9797     1.00\n",
       "9798     1.00\n",
       "9801     1.00\n",
       "         ... \n",
       "8076      NaN\n",
       "8139      NaN\n",
       "8259      NaN\n",
       "8306      NaN\n",
       "16066     NaN\n",
       "Name: passenger_count, Length: 15959, dtype: float64"
      ]
     },
     "execution_count": 325,
     "metadata": {},
     "output_type": "execute_result"
    }
   ],
   "source": [
    "# sort passenger_count in ascending order\n",
    "train[\"passenger_count\"].sort_values(ascending=True)"
   ]
  },
  {
   "cell_type": "code",
   "execution_count": 326,
   "metadata": {},
   "outputs": [],
   "source": [
    "# 1 row includes passenger_count is 0.12 which is not possible. so drop that row\n",
    "train = train.drop(train[train[\"passenger_count\"] == 0.12].index, axis=0)"
   ]
  },
  {
   "cell_type": "code",
   "execution_count": 327,
   "metadata": {},
   "outputs": [
    {
     "name": "stdout",
     "output_type": "stream",
     "text": [
      "55\n"
     ]
    }
   ],
   "source": [
    "print(train['passenger_count'].isnull().sum())"
   ]
  },
  {
   "cell_type": "code",
   "execution_count": 328,
   "metadata": {},
   "outputs": [
    {
     "data": {
      "text/plain": [
       "(15903, 13)"
      ]
     },
     "execution_count": 328,
     "metadata": {},
     "output_type": "execute_result"
    }
   ],
   "source": [
    "# there are 55 rows which includes null passenger_count value. so drop those 55 rows\n",
    "train = train.drop(train[train['passenger_count'].isnull()].index, axis=0)\n",
    "train.shape"
   ]
  },
  {
   "cell_type": "code",
   "execution_count": 329,
   "metadata": {},
   "outputs": [
    {
     "data": {
      "text/plain": [
       "count    9914.000000\n",
       "mean        1.671273\n",
       "std         1.278747\n",
       "min         1.000000\n",
       "25%         1.000000\n",
       "50%         1.000000\n",
       "75%         2.000000\n",
       "max         6.000000\n",
       "Name: passenger_count, dtype: float64"
      ]
     },
     "execution_count": 329,
     "metadata": {},
     "output_type": "execute_result"
    }
   ],
   "source": [
    "test[\"passenger_count\"].describe()"
   ]
  },
  {
   "cell_type": "code",
   "execution_count": 330,
   "metadata": {},
   "outputs": [
    {
     "name": "stdout",
     "output_type": "stream",
     "text": [
      "0\n"
     ]
    }
   ],
   "source": [
    "print(test['passenger_count'].isnull().sum())"
   ]
  },
  {
   "cell_type": "code",
   "execution_count": 331,
   "metadata": {},
   "outputs": [
    {
     "data": {
      "text/html": [
       "<div>\n",
       "<style scoped>\n",
       "    .dataframe tbody tr th:only-of-type {\n",
       "        vertical-align: middle;\n",
       "    }\n",
       "\n",
       "    .dataframe tbody tr th {\n",
       "        vertical-align: top;\n",
       "    }\n",
       "\n",
       "    .dataframe thead th {\n",
       "        text-align: right;\n",
       "    }\n",
       "</style>\n",
       "<table border=\"1\" class=\"dataframe\">\n",
       "  <thead>\n",
       "    <tr style=\"text-align: right;\">\n",
       "      <th></th>\n",
       "      <th>fare_amount</th>\n",
       "      <th>pickup_longitude</th>\n",
       "      <th>pickup_latitude</th>\n",
       "      <th>dropoff_longitude</th>\n",
       "      <th>dropoff_latitude</th>\n",
       "      <th>passenger_count</th>\n",
       "      <th>year</th>\n",
       "      <th>Month</th>\n",
       "      <th>Date</th>\n",
       "      <th>Day</th>\n",
       "      <th>Hour</th>\n",
       "      <th>Minute</th>\n",
       "    </tr>\n",
       "  </thead>\n",
       "  <tbody>\n",
       "    <tr>\n",
       "      <th>count</th>\n",
       "      <td>15903.000000</td>\n",
       "      <td>15903.000000</td>\n",
       "      <td>15903.000000</td>\n",
       "      <td>15903.000000</td>\n",
       "      <td>15903.000000</td>\n",
       "      <td>15903.000000</td>\n",
       "      <td>15903.000000</td>\n",
       "      <td>15903.000000</td>\n",
       "      <td>15903.000000</td>\n",
       "      <td>15903.000000</td>\n",
       "      <td>15903.000000</td>\n",
       "      <td>15903.000000</td>\n",
       "    </tr>\n",
       "    <tr>\n",
       "      <th>mean</th>\n",
       "      <td>11.375641</td>\n",
       "      <td>-72.475079</td>\n",
       "      <td>39.921495</td>\n",
       "      <td>-72.465336</td>\n",
       "      <td>39.899371</td>\n",
       "      <td>1.649645</td>\n",
       "      <td>2011.730868</td>\n",
       "      <td>6.264919</td>\n",
       "      <td>15.669811</td>\n",
       "      <td>3.034459</td>\n",
       "      <td>13.494246</td>\n",
       "      <td>29.655411</td>\n",
       "    </tr>\n",
       "    <tr>\n",
       "      <th>std</th>\n",
       "      <td>10.814944</td>\n",
       "      <td>10.538127</td>\n",
       "      <td>6.817244</td>\n",
       "      <td>10.566052</td>\n",
       "      <td>6.186041</td>\n",
       "      <td>1.265811</td>\n",
       "      <td>1.866810</td>\n",
       "      <td>3.447058</td>\n",
       "      <td>8.685896</td>\n",
       "      <td>1.968644</td>\n",
       "      <td>6.521489</td>\n",
       "      <td>17.299538</td>\n",
       "    </tr>\n",
       "    <tr>\n",
       "      <th>min</th>\n",
       "      <td>0.010000</td>\n",
       "      <td>-74.438233</td>\n",
       "      <td>-74.006893</td>\n",
       "      <td>-74.429332</td>\n",
       "      <td>-74.006377</td>\n",
       "      <td>1.000000</td>\n",
       "      <td>2009.000000</td>\n",
       "      <td>1.000000</td>\n",
       "      <td>1.000000</td>\n",
       "      <td>0.000000</td>\n",
       "      <td>0.000000</td>\n",
       "      <td>0.000000</td>\n",
       "    </tr>\n",
       "    <tr>\n",
       "      <th>25%</th>\n",
       "      <td>6.000000</td>\n",
       "      <td>-73.992143</td>\n",
       "      <td>40.734946</td>\n",
       "      <td>-73.991181</td>\n",
       "      <td>40.734715</td>\n",
       "      <td>1.000000</td>\n",
       "      <td>2010.000000</td>\n",
       "      <td>3.000000</td>\n",
       "      <td>8.000000</td>\n",
       "      <td>1.000000</td>\n",
       "      <td>9.000000</td>\n",
       "      <td>15.000000</td>\n",
       "    </tr>\n",
       "    <tr>\n",
       "      <th>50%</th>\n",
       "      <td>8.500000</td>\n",
       "      <td>-73.981689</td>\n",
       "      <td>40.752640</td>\n",
       "      <td>-73.980157</td>\n",
       "      <td>40.753565</td>\n",
       "      <td>1.000000</td>\n",
       "      <td>2012.000000</td>\n",
       "      <td>6.000000</td>\n",
       "      <td>16.000000</td>\n",
       "      <td>3.000000</td>\n",
       "      <td>14.000000</td>\n",
       "      <td>30.000000</td>\n",
       "    </tr>\n",
       "    <tr>\n",
       "      <th>75%</th>\n",
       "      <td>12.500000</td>\n",
       "      <td>-73.966801</td>\n",
       "      <td>40.767382</td>\n",
       "      <td>-73.963643</td>\n",
       "      <td>40.768027</td>\n",
       "      <td>2.000000</td>\n",
       "      <td>2013.000000</td>\n",
       "      <td>9.000000</td>\n",
       "      <td>23.000000</td>\n",
       "      <td>5.000000</td>\n",
       "      <td>19.000000</td>\n",
       "      <td>45.000000</td>\n",
       "    </tr>\n",
       "    <tr>\n",
       "      <th>max</th>\n",
       "      <td>453.000000</td>\n",
       "      <td>40.766125</td>\n",
       "      <td>401.083332</td>\n",
       "      <td>40.802437</td>\n",
       "      <td>41.366138</td>\n",
       "      <td>6.000000</td>\n",
       "      <td>2015.000000</td>\n",
       "      <td>12.000000</td>\n",
       "      <td>31.000000</td>\n",
       "      <td>6.000000</td>\n",
       "      <td>23.000000</td>\n",
       "      <td>59.000000</td>\n",
       "    </tr>\n",
       "  </tbody>\n",
       "</table>\n",
       "</div>"
      ],
      "text/plain": [
       "        fare_amount  pickup_longitude  pickup_latitude  dropoff_longitude  \\\n",
       "count  15903.000000      15903.000000     15903.000000       15903.000000   \n",
       "mean      11.375641        -72.475079        39.921495         -72.465336   \n",
       "std       10.814944         10.538127         6.817244          10.566052   \n",
       "min        0.010000        -74.438233       -74.006893         -74.429332   \n",
       "25%        6.000000        -73.992143        40.734946         -73.991181   \n",
       "50%        8.500000        -73.981689        40.752640         -73.980157   \n",
       "75%       12.500000        -73.966801        40.767382         -73.963643   \n",
       "max      453.000000         40.766125       401.083332          40.802437   \n",
       "\n",
       "       dropoff_latitude  passenger_count          year         Month  \\\n",
       "count      15903.000000     15903.000000  15903.000000  15903.000000   \n",
       "mean          39.899371         1.649645   2011.730868      6.264919   \n",
       "std            6.186041         1.265811      1.866810      3.447058   \n",
       "min          -74.006377         1.000000   2009.000000      1.000000   \n",
       "25%           40.734715         1.000000   2010.000000      3.000000   \n",
       "50%           40.753565         1.000000   2012.000000      6.000000   \n",
       "75%           40.768027         2.000000   2013.000000      9.000000   \n",
       "max           41.366138         6.000000   2015.000000     12.000000   \n",
       "\n",
       "               Date           Day          Hour        Minute  \n",
       "count  15903.000000  15903.000000  15903.000000  15903.000000  \n",
       "mean      15.669811      3.034459     13.494246     29.655411  \n",
       "std        8.685896      1.968644      6.521489     17.299538  \n",
       "min        1.000000      0.000000      0.000000      0.000000  \n",
       "25%        8.000000      1.000000      9.000000     15.000000  \n",
       "50%       16.000000      3.000000     14.000000     30.000000  \n",
       "75%       23.000000      5.000000     19.000000     45.000000  \n",
       "max       31.000000      6.000000     23.000000     59.000000  "
      ]
     },
     "execution_count": 331,
     "metadata": {},
     "output_type": "execute_result"
    }
   ],
   "source": [
    "train.describe()"
   ]
  },
  {
   "cell_type": "code",
   "execution_count": 332,
   "metadata": {},
   "outputs": [],
   "source": [
    "# from above, it is clear that max. value of pickup_latitude is 401.0833\n",
    "# As we know that Lattitude ranges from (-90 to 90) and Longitude ranges from (-180 to 180)\n",
    "# So, drop the rows which includes values outside the Lattitude and Longitude ranges"
   ]
  },
  {
   "cell_type": "code",
   "execution_count": 333,
   "metadata": {},
   "outputs": [],
   "source": [
    "# dropping one value of >90\n",
    "train = train.drop((train[train['pickup_latitude']< -90]).index, axis=0)\n",
    "train = train.drop((train[train['pickup_latitude']> 90]).index, axis=0)"
   ]
  },
  {
   "cell_type": "code",
   "execution_count": 334,
   "metadata": {},
   "outputs": [
    {
     "data": {
      "text/plain": [
       "(15902, 13)"
      ]
     },
     "execution_count": 334,
     "metadata": {},
     "output_type": "execute_result"
    }
   ],
   "source": [
    "train.shape"
   ]
  },
  {
   "cell_type": "code",
   "execution_count": 335,
   "metadata": {},
   "outputs": [
    {
     "data": {
      "text/html": [
       "<div>\n",
       "<style scoped>\n",
       "    .dataframe tbody tr th:only-of-type {\n",
       "        vertical-align: middle;\n",
       "    }\n",
       "\n",
       "    .dataframe tbody tr th {\n",
       "        vertical-align: top;\n",
       "    }\n",
       "\n",
       "    .dataframe thead th {\n",
       "        text-align: right;\n",
       "    }\n",
       "</style>\n",
       "<table border=\"1\" class=\"dataframe\">\n",
       "  <thead>\n",
       "    <tr style=\"text-align: right;\">\n",
       "      <th></th>\n",
       "      <th>pickup_longitude</th>\n",
       "      <th>pickup_latitude</th>\n",
       "      <th>dropoff_longitude</th>\n",
       "      <th>dropoff_latitude</th>\n",
       "      <th>passenger_count</th>\n",
       "      <th>year</th>\n",
       "      <th>Month</th>\n",
       "      <th>Date</th>\n",
       "      <th>Day</th>\n",
       "      <th>Hour</th>\n",
       "      <th>Minute</th>\n",
       "    </tr>\n",
       "  </thead>\n",
       "  <tbody>\n",
       "    <tr>\n",
       "      <th>count</th>\n",
       "      <td>9914.000000</td>\n",
       "      <td>9914.000000</td>\n",
       "      <td>9914.000000</td>\n",
       "      <td>9914.000000</td>\n",
       "      <td>9914.000000</td>\n",
       "      <td>9914.000000</td>\n",
       "      <td>9914.000000</td>\n",
       "      <td>9914.000000</td>\n",
       "      <td>9914.000000</td>\n",
       "      <td>9914.000000</td>\n",
       "      <td>9914.000000</td>\n",
       "    </tr>\n",
       "    <tr>\n",
       "      <th>mean</th>\n",
       "      <td>-73.974722</td>\n",
       "      <td>40.751041</td>\n",
       "      <td>-73.973657</td>\n",
       "      <td>40.751743</td>\n",
       "      <td>1.671273</td>\n",
       "      <td>2011.815816</td>\n",
       "      <td>6.857979</td>\n",
       "      <td>16.194170</td>\n",
       "      <td>2.852834</td>\n",
       "      <td>13.467420</td>\n",
       "      <td>29.548416</td>\n",
       "    </tr>\n",
       "    <tr>\n",
       "      <th>std</th>\n",
       "      <td>0.042774</td>\n",
       "      <td>0.033541</td>\n",
       "      <td>0.039072</td>\n",
       "      <td>0.035435</td>\n",
       "      <td>1.278747</td>\n",
       "      <td>1.803347</td>\n",
       "      <td>3.353272</td>\n",
       "      <td>8.838482</td>\n",
       "      <td>1.994451</td>\n",
       "      <td>6.868584</td>\n",
       "      <td>18.674818</td>\n",
       "    </tr>\n",
       "    <tr>\n",
       "      <th>min</th>\n",
       "      <td>-74.252193</td>\n",
       "      <td>40.573143</td>\n",
       "      <td>-74.263242</td>\n",
       "      <td>40.568973</td>\n",
       "      <td>1.000000</td>\n",
       "      <td>2009.000000</td>\n",
       "      <td>1.000000</td>\n",
       "      <td>1.000000</td>\n",
       "      <td>0.000000</td>\n",
       "      <td>0.000000</td>\n",
       "      <td>0.000000</td>\n",
       "    </tr>\n",
       "    <tr>\n",
       "      <th>25%</th>\n",
       "      <td>-73.992501</td>\n",
       "      <td>40.736125</td>\n",
       "      <td>-73.991247</td>\n",
       "      <td>40.735254</td>\n",
       "      <td>1.000000</td>\n",
       "      <td>2010.000000</td>\n",
       "      <td>4.000000</td>\n",
       "      <td>9.000000</td>\n",
       "      <td>1.000000</td>\n",
       "      <td>8.000000</td>\n",
       "      <td>13.000000</td>\n",
       "    </tr>\n",
       "    <tr>\n",
       "      <th>50%</th>\n",
       "      <td>-73.982326</td>\n",
       "      <td>40.753051</td>\n",
       "      <td>-73.980015</td>\n",
       "      <td>40.754065</td>\n",
       "      <td>1.000000</td>\n",
       "      <td>2012.000000</td>\n",
       "      <td>7.000000</td>\n",
       "      <td>16.000000</td>\n",
       "      <td>3.000000</td>\n",
       "      <td>15.000000</td>\n",
       "      <td>33.000000</td>\n",
       "    </tr>\n",
       "    <tr>\n",
       "      <th>75%</th>\n",
       "      <td>-73.968013</td>\n",
       "      <td>40.767113</td>\n",
       "      <td>-73.964059</td>\n",
       "      <td>40.768757</td>\n",
       "      <td>2.000000</td>\n",
       "      <td>2014.000000</td>\n",
       "      <td>10.000000</td>\n",
       "      <td>25.000000</td>\n",
       "      <td>5.000000</td>\n",
       "      <td>19.000000</td>\n",
       "      <td>45.000000</td>\n",
       "    </tr>\n",
       "    <tr>\n",
       "      <th>max</th>\n",
       "      <td>-72.986532</td>\n",
       "      <td>41.709555</td>\n",
       "      <td>-72.990963</td>\n",
       "      <td>41.696683</td>\n",
       "      <td>6.000000</td>\n",
       "      <td>2015.000000</td>\n",
       "      <td>12.000000</td>\n",
       "      <td>31.000000</td>\n",
       "      <td>6.000000</td>\n",
       "      <td>23.000000</td>\n",
       "      <td>59.000000</td>\n",
       "    </tr>\n",
       "  </tbody>\n",
       "</table>\n",
       "</div>"
      ],
      "text/plain": [
       "       pickup_longitude  pickup_latitude  dropoff_longitude  dropoff_latitude  \\\n",
       "count       9914.000000      9914.000000        9914.000000       9914.000000   \n",
       "mean         -73.974722        40.751041         -73.973657         40.751743   \n",
       "std            0.042774         0.033541           0.039072          0.035435   \n",
       "min          -74.252193        40.573143         -74.263242         40.568973   \n",
       "25%          -73.992501        40.736125         -73.991247         40.735254   \n",
       "50%          -73.982326        40.753051         -73.980015         40.754065   \n",
       "75%          -73.968013        40.767113         -73.964059         40.768757   \n",
       "max          -72.986532        41.709555         -72.990963         41.696683   \n",
       "\n",
       "       passenger_count         year        Month         Date          Day  \\\n",
       "count      9914.000000  9914.000000  9914.000000  9914.000000  9914.000000   \n",
       "mean          1.671273  2011.815816     6.857979    16.194170     2.852834   \n",
       "std           1.278747     1.803347     3.353272     8.838482     1.994451   \n",
       "min           1.000000  2009.000000     1.000000     1.000000     0.000000   \n",
       "25%           1.000000  2010.000000     4.000000     9.000000     1.000000   \n",
       "50%           1.000000  2012.000000     7.000000    16.000000     3.000000   \n",
       "75%           2.000000  2014.000000    10.000000    25.000000     5.000000   \n",
       "max           6.000000  2015.000000    12.000000    31.000000     6.000000   \n",
       "\n",
       "              Hour       Minute  \n",
       "count  9914.000000  9914.000000  \n",
       "mean     13.467420    29.548416  \n",
       "std       6.868584    18.674818  \n",
       "min       0.000000     0.000000  \n",
       "25%       8.000000    13.000000  \n",
       "50%      15.000000    33.000000  \n",
       "75%      19.000000    45.000000  \n",
       "max      23.000000    59.000000  "
      ]
     },
     "execution_count": 335,
     "metadata": {},
     "output_type": "execute_result"
    }
   ],
   "source": [
    "test.describe()"
   ]
  },
  {
   "cell_type": "markdown",
   "metadata": {},
   "source": [
    "##### we have given pickup/drop latitude and longitude, so we need to calculate the distance using haversine formula"
   ]
  },
  {
   "cell_type": "code",
   "execution_count": 336,
   "metadata": {},
   "outputs": [],
   "source": [
    "# function for calculating the distance using haversine formula.\n",
    "from math import radians, cos, sin, asin, sqrt\n",
    "\n",
    "def haversine(a):\n",
    "    lon1=a[0]\n",
    "    lat1=a[1]\n",
    "    lon2=a[2]\n",
    "    lat2=a[3]\n",
    "    \"\"\"\n",
    "    Calculate the great circle distance between two points \n",
    "    on the earth (specified in decimal degrees)\n",
    "    \"\"\"\n",
    "    # convert decimal degrees to radians \n",
    "    lon1, lat1, lon2, lat2 = map(radians, [lon1, lat1, lon2, lat2])\n",
    "    \n",
    "    # haversine formula \n",
    "    dlon = lon2 - lon1 \n",
    "    dlat = lat2 - lat1 \n",
    "    a = sin(dlat/2)**2 + cos(lat1) * cos(lat2) * sin(dlon/2)**2\n",
    "    c =  2 * asin(sqrt(a))\n",
    "    # Radius of earth in kilometers is 6371\n",
    "    km = 6371* c\n",
    "    return km"
   ]
  },
  {
   "cell_type": "code",
   "execution_count": 337,
   "metadata": {},
   "outputs": [],
   "source": [
    "train['distance'] = train[['pickup_longitude','pickup_latitude','dropoff_longitude','dropoff_latitude']].apply(haversine,axis=1)"
   ]
  },
  {
   "cell_type": "code",
   "execution_count": 338,
   "metadata": {},
   "outputs": [],
   "source": [
    "test['distance'] = test[['pickup_longitude','pickup_latitude','dropoff_longitude','dropoff_latitude']].apply(haversine,axis=1)"
   ]
  },
  {
   "cell_type": "code",
   "execution_count": 339,
   "metadata": {},
   "outputs": [
    {
     "data": {
      "text/html": [
       "<div>\n",
       "<style scoped>\n",
       "    .dataframe tbody tr th:only-of-type {\n",
       "        vertical-align: middle;\n",
       "    }\n",
       "\n",
       "    .dataframe tbody tr th {\n",
       "        vertical-align: top;\n",
       "    }\n",
       "\n",
       "    .dataframe thead th {\n",
       "        text-align: right;\n",
       "    }\n",
       "</style>\n",
       "<table border=\"1\" class=\"dataframe\">\n",
       "  <thead>\n",
       "    <tr style=\"text-align: right;\">\n",
       "      <th></th>\n",
       "      <th>fare_amount</th>\n",
       "      <th>pickup_datetime</th>\n",
       "      <th>pickup_longitude</th>\n",
       "      <th>pickup_latitude</th>\n",
       "      <th>dropoff_longitude</th>\n",
       "      <th>dropoff_latitude</th>\n",
       "      <th>passenger_count</th>\n",
       "      <th>year</th>\n",
       "      <th>Month</th>\n",
       "      <th>Date</th>\n",
       "      <th>Day</th>\n",
       "      <th>Hour</th>\n",
       "      <th>Minute</th>\n",
       "      <th>distance</th>\n",
       "    </tr>\n",
       "  </thead>\n",
       "  <tbody>\n",
       "    <tr>\n",
       "      <th>0</th>\n",
       "      <td>4.5</td>\n",
       "      <td>2009-06-15 17:26:21</td>\n",
       "      <td>-73.844311</td>\n",
       "      <td>40.721319</td>\n",
       "      <td>-73.841610</td>\n",
       "      <td>40.712278</td>\n",
       "      <td>1.0</td>\n",
       "      <td>2009</td>\n",
       "      <td>6</td>\n",
       "      <td>15</td>\n",
       "      <td>0</td>\n",
       "      <td>17</td>\n",
       "      <td>26</td>\n",
       "      <td>1.030764</td>\n",
       "    </tr>\n",
       "    <tr>\n",
       "      <th>1</th>\n",
       "      <td>16.9</td>\n",
       "      <td>2010-01-05 16:52:16</td>\n",
       "      <td>-74.016048</td>\n",
       "      <td>40.711303</td>\n",
       "      <td>-73.979268</td>\n",
       "      <td>40.782004</td>\n",
       "      <td>1.0</td>\n",
       "      <td>2010</td>\n",
       "      <td>1</td>\n",
       "      <td>5</td>\n",
       "      <td>1</td>\n",
       "      <td>16</td>\n",
       "      <td>52</td>\n",
       "      <td>8.450134</td>\n",
       "    </tr>\n",
       "    <tr>\n",
       "      <th>2</th>\n",
       "      <td>5.7</td>\n",
       "      <td>2011-08-18 00:35:00</td>\n",
       "      <td>-73.982738</td>\n",
       "      <td>40.761270</td>\n",
       "      <td>-73.991242</td>\n",
       "      <td>40.750562</td>\n",
       "      <td>2.0</td>\n",
       "      <td>2011</td>\n",
       "      <td>8</td>\n",
       "      <td>18</td>\n",
       "      <td>3</td>\n",
       "      <td>0</td>\n",
       "      <td>35</td>\n",
       "      <td>1.389525</td>\n",
       "    </tr>\n",
       "    <tr>\n",
       "      <th>3</th>\n",
       "      <td>7.7</td>\n",
       "      <td>2012-04-21 04:30:42</td>\n",
       "      <td>-73.987130</td>\n",
       "      <td>40.733143</td>\n",
       "      <td>-73.991567</td>\n",
       "      <td>40.758092</td>\n",
       "      <td>1.0</td>\n",
       "      <td>2012</td>\n",
       "      <td>4</td>\n",
       "      <td>21</td>\n",
       "      <td>5</td>\n",
       "      <td>4</td>\n",
       "      <td>30</td>\n",
       "      <td>2.799270</td>\n",
       "    </tr>\n",
       "    <tr>\n",
       "      <th>4</th>\n",
       "      <td>5.3</td>\n",
       "      <td>2010-03-09 07:51:00</td>\n",
       "      <td>-73.968095</td>\n",
       "      <td>40.768008</td>\n",
       "      <td>-73.956655</td>\n",
       "      <td>40.783762</td>\n",
       "      <td>1.0</td>\n",
       "      <td>2010</td>\n",
       "      <td>3</td>\n",
       "      <td>9</td>\n",
       "      <td>1</td>\n",
       "      <td>7</td>\n",
       "      <td>51</td>\n",
       "      <td>1.999157</td>\n",
       "    </tr>\n",
       "  </tbody>\n",
       "</table>\n",
       "</div>"
      ],
      "text/plain": [
       "   fare_amount     pickup_datetime  pickup_longitude  pickup_latitude  \\\n",
       "0          4.5 2009-06-15 17:26:21        -73.844311        40.721319   \n",
       "1         16.9 2010-01-05 16:52:16        -74.016048        40.711303   \n",
       "2          5.7 2011-08-18 00:35:00        -73.982738        40.761270   \n",
       "3          7.7 2012-04-21 04:30:42        -73.987130        40.733143   \n",
       "4          5.3 2010-03-09 07:51:00        -73.968095        40.768008   \n",
       "\n",
       "   dropoff_longitude  dropoff_latitude  passenger_count  year  Month  Date  \\\n",
       "0         -73.841610         40.712278              1.0  2009      6    15   \n",
       "1         -73.979268         40.782004              1.0  2010      1     5   \n",
       "2         -73.991242         40.750562              2.0  2011      8    18   \n",
       "3         -73.991567         40.758092              1.0  2012      4    21   \n",
       "4         -73.956655         40.783762              1.0  2010      3     9   \n",
       "\n",
       "   Day  Hour  Minute  distance  \n",
       "0    0    17      26  1.030764  \n",
       "1    1    16      52  8.450134  \n",
       "2    3     0      35  1.389525  \n",
       "3    5     4      30  2.799270  \n",
       "4    1     7      51  1.999157  "
      ]
     },
     "execution_count": 339,
     "metadata": {},
     "output_type": "execute_result"
    }
   ],
   "source": [
    "train.head()"
   ]
  },
  {
   "cell_type": "code",
   "execution_count": 340,
   "metadata": {},
   "outputs": [
    {
     "data": {
      "text/html": [
       "<div>\n",
       "<style scoped>\n",
       "    .dataframe tbody tr th:only-of-type {\n",
       "        vertical-align: middle;\n",
       "    }\n",
       "\n",
       "    .dataframe tbody tr th {\n",
       "        vertical-align: top;\n",
       "    }\n",
       "\n",
       "    .dataframe thead th {\n",
       "        text-align: right;\n",
       "    }\n",
       "</style>\n",
       "<table border=\"1\" class=\"dataframe\">\n",
       "  <thead>\n",
       "    <tr style=\"text-align: right;\">\n",
       "      <th></th>\n",
       "      <th>pickup_datetime</th>\n",
       "      <th>pickup_longitude</th>\n",
       "      <th>pickup_latitude</th>\n",
       "      <th>dropoff_longitude</th>\n",
       "      <th>dropoff_latitude</th>\n",
       "      <th>passenger_count</th>\n",
       "      <th>year</th>\n",
       "      <th>Month</th>\n",
       "      <th>Date</th>\n",
       "      <th>Day</th>\n",
       "      <th>Hour</th>\n",
       "      <th>Minute</th>\n",
       "      <th>distance</th>\n",
       "    </tr>\n",
       "  </thead>\n",
       "  <tbody>\n",
       "    <tr>\n",
       "      <th>0</th>\n",
       "      <td>2015-01-27 13:08:24</td>\n",
       "      <td>-73.973320</td>\n",
       "      <td>40.763805</td>\n",
       "      <td>-73.981430</td>\n",
       "      <td>40.743835</td>\n",
       "      <td>1</td>\n",
       "      <td>2015</td>\n",
       "      <td>1</td>\n",
       "      <td>27</td>\n",
       "      <td>1</td>\n",
       "      <td>13</td>\n",
       "      <td>8</td>\n",
       "      <td>2.323259</td>\n",
       "    </tr>\n",
       "    <tr>\n",
       "      <th>1</th>\n",
       "      <td>2015-01-27 13:08:24</td>\n",
       "      <td>-73.986862</td>\n",
       "      <td>40.719383</td>\n",
       "      <td>-73.998886</td>\n",
       "      <td>40.739201</td>\n",
       "      <td>1</td>\n",
       "      <td>2015</td>\n",
       "      <td>1</td>\n",
       "      <td>27</td>\n",
       "      <td>1</td>\n",
       "      <td>13</td>\n",
       "      <td>8</td>\n",
       "      <td>2.425353</td>\n",
       "    </tr>\n",
       "    <tr>\n",
       "      <th>2</th>\n",
       "      <td>2011-10-08 11:53:44</td>\n",
       "      <td>-73.982524</td>\n",
       "      <td>40.751260</td>\n",
       "      <td>-73.979654</td>\n",
       "      <td>40.746139</td>\n",
       "      <td>1</td>\n",
       "      <td>2011</td>\n",
       "      <td>10</td>\n",
       "      <td>8</td>\n",
       "      <td>5</td>\n",
       "      <td>11</td>\n",
       "      <td>53</td>\n",
       "      <td>0.618628</td>\n",
       "    </tr>\n",
       "    <tr>\n",
       "      <th>3</th>\n",
       "      <td>2012-12-01 21:12:12</td>\n",
       "      <td>-73.981160</td>\n",
       "      <td>40.767807</td>\n",
       "      <td>-73.990448</td>\n",
       "      <td>40.751635</td>\n",
       "      <td>1</td>\n",
       "      <td>2012</td>\n",
       "      <td>12</td>\n",
       "      <td>1</td>\n",
       "      <td>5</td>\n",
       "      <td>21</td>\n",
       "      <td>12</td>\n",
       "      <td>1.961033</td>\n",
       "    </tr>\n",
       "    <tr>\n",
       "      <th>4</th>\n",
       "      <td>2012-12-01 21:12:12</td>\n",
       "      <td>-73.966046</td>\n",
       "      <td>40.789775</td>\n",
       "      <td>-73.988565</td>\n",
       "      <td>40.744427</td>\n",
       "      <td>1</td>\n",
       "      <td>2012</td>\n",
       "      <td>12</td>\n",
       "      <td>1</td>\n",
       "      <td>5</td>\n",
       "      <td>21</td>\n",
       "      <td>12</td>\n",
       "      <td>5.387301</td>\n",
       "    </tr>\n",
       "  </tbody>\n",
       "</table>\n",
       "</div>"
      ],
      "text/plain": [
       "      pickup_datetime  pickup_longitude  pickup_latitude  dropoff_longitude  \\\n",
       "0 2015-01-27 13:08:24        -73.973320        40.763805         -73.981430   \n",
       "1 2015-01-27 13:08:24        -73.986862        40.719383         -73.998886   \n",
       "2 2011-10-08 11:53:44        -73.982524        40.751260         -73.979654   \n",
       "3 2012-12-01 21:12:12        -73.981160        40.767807         -73.990448   \n",
       "4 2012-12-01 21:12:12        -73.966046        40.789775         -73.988565   \n",
       "\n",
       "   dropoff_latitude  passenger_count  year  Month  Date  Day  Hour  Minute  \\\n",
       "0         40.743835                1  2015      1    27    1    13       8   \n",
       "1         40.739201                1  2015      1    27    1    13       8   \n",
       "2         40.746139                1  2011     10     8    5    11      53   \n",
       "3         40.751635                1  2012     12     1    5    21      12   \n",
       "4         40.744427                1  2012     12     1    5    21      12   \n",
       "\n",
       "   distance  \n",
       "0  2.323259  \n",
       "1  2.425353  \n",
       "2  0.618628  \n",
       "3  1.961033  \n",
       "4  5.387301  "
      ]
     },
     "execution_count": 340,
     "metadata": {},
     "output_type": "execute_result"
    }
   ],
   "source": [
    "test.head()"
   ]
  },
  {
   "cell_type": "code",
   "execution_count": 341,
   "metadata": {},
   "outputs": [
    {
     "data": {
      "text/plain": [
       "count    15902.000000\n",
       "mean        15.070783\n",
       "std        311.732401\n",
       "min          0.000000\n",
       "25%          1.215750\n",
       "50%          2.125950\n",
       "75%          3.851269\n",
       "max       8667.542104\n",
       "Name: distance, dtype: float64"
      ]
     },
     "execution_count": 341,
     "metadata": {},
     "output_type": "execute_result"
    }
   ],
   "source": [
    "train['distance'].describe()"
   ]
  },
  {
   "cell_type": "code",
   "execution_count": 342,
   "metadata": {},
   "outputs": [
    {
     "data": {
      "text/plain": [
       "Counter({False: 15448, True: 454})"
      ]
     },
     "execution_count": 342,
     "metadata": {},
     "output_type": "execute_result"
    }
   ],
   "source": [
    "Counter(train['distance'] == 0)"
   ]
  },
  {
   "cell_type": "code",
   "execution_count": 343,
   "metadata": {},
   "outputs": [
    {
     "data": {
      "text/plain": [
       "(15448, 14)"
      ]
     },
     "execution_count": 343,
     "metadata": {},
     "output_type": "execute_result"
    }
   ],
   "source": [
    "# distance can not be 0 km, so drop the rows which includes distance 0 km\n",
    "train = train.drop(train[train['distance']== 0].index, axis=0)\n",
    "train.shape"
   ]
  },
  {
   "cell_type": "code",
   "execution_count": 344,
   "metadata": {},
   "outputs": [
    {
     "data": {
      "text/plain": [
       "9147     8667.542104\n",
       "8647     8667.497512\n",
       "2397     8667.454421\n",
       "472      8667.304968\n",
       "11653    8666.701504\n",
       "13340    8666.613646\n",
       "10215    8666.584706\n",
       "4597     8666.566030\n",
       "10458    8665.976222\n",
       "10672    8665.702390\n",
       "10488    8665.555634\n",
       "1260     8665.268588\n",
       "4278     8665.223767\n",
       "6188     8664.191488\n",
       "12983    8664.131808\n",
       "6302     8663.039123\n",
       "12705    8661.362152\n",
       "14197    8657.136619\n",
       "15783    8656.714168\n",
       "15749    6028.926779\n",
       "2280     6026.494216\n",
       "5864     5420.988959\n",
       "7014     4447.086698\n",
       "10710     129.950482\n",
       "14536     129.560455\n",
       "11619     127.509261\n",
       "12228     123.561157\n",
       "5663      101.094619\n",
       "1684       99.771579\n",
       "3075       97.985088\n",
       "9899       97.670590\n",
       "4487       95.852036\n",
       "9808       93.925599\n",
       "7401       92.605848\n",
       "12349      43.648755\n",
       "649        39.476975\n",
       "6308       37.812945\n",
       "4118       32.602535\n",
       "7021       29.478280\n",
       "6677       26.369072\n",
       "Name: distance, dtype: float64"
      ]
     },
     "execution_count": 344,
     "metadata": {},
     "output_type": "execute_result"
    }
   ],
   "source": [
    "# arrange decending order of distance to check outlier\n",
    "train['distance'].sort_values(ascending=False)[0:40]"
   ]
  },
  {
   "cell_type": "code",
   "execution_count": 345,
   "metadata": {},
   "outputs": [
    {
     "data": {
      "text/plain": [
       "(15425, 14)"
      ]
     },
     "execution_count": 345,
     "metadata": {},
     "output_type": "execute_result"
    }
   ],
   "source": [
    "# from above, it is clear that first 23 distance values are outliers as in first 23 values, distance is in thousands.\n",
    "# And after first 23 values, distance goes down to 129 km\n",
    "# remove the rows whose distance values is very high which is more than 129 km\n",
    "train = train.drop(train[train['distance'] > 130].index, axis=0)\n",
    "train.shape"
   ]
  },
  {
   "cell_type": "code",
   "execution_count": 346,
   "metadata": {},
   "outputs": [
    {
     "data": {
      "text/plain": [
       "count    9914.000000\n",
       "mean        3.435371\n",
       "std         3.972374\n",
       "min         0.000000\n",
       "25%         1.298277\n",
       "50%         2.217412\n",
       "75%         4.045302\n",
       "max        99.996040\n",
       "Name: distance, dtype: float64"
      ]
     },
     "execution_count": 346,
     "metadata": {},
     "output_type": "execute_result"
    }
   ],
   "source": [
    "test['distance'].describe()"
   ]
  },
  {
   "cell_type": "code",
   "execution_count": 347,
   "metadata": {},
   "outputs": [
    {
     "data": {
      "text/plain": [
       "Counter({False: 9829, True: 85})"
      ]
     },
     "execution_count": 347,
     "metadata": {},
     "output_type": "execute_result"
    }
   ],
   "source": [
    "Counter(test['distance'] == 0)"
   ]
  },
  {
   "cell_type": "code",
   "execution_count": 348,
   "metadata": {},
   "outputs": [
    {
     "data": {
      "text/plain": [
       "(9829, 13)"
      ]
     },
     "execution_count": 348,
     "metadata": {},
     "output_type": "execute_result"
    }
   ],
   "source": [
    "# distance can not be 0 km, so drop the rows which includes distance 0 km\n",
    "test = test.drop(test[test['distance']== 0].index, axis=0)\n",
    "test.shape"
   ]
  },
  {
   "cell_type": "code",
   "execution_count": 349,
   "metadata": {},
   "outputs": [
    {
     "data": {
      "text/plain": [
       "4080    99.996040\n",
       "8529    98.192419\n",
       "5887    97.240975\n",
       "7269    33.604366\n",
       "4334    28.837177\n",
       "          ...    \n",
       "7966     0.007370\n",
       "6230     0.003598\n",
       "6901     0.002657\n",
       "2513     0.002166\n",
       "352      0.001486\n",
       "Name: distance, Length: 9829, dtype: float64"
      ]
     },
     "execution_count": 349,
     "metadata": {},
     "output_type": "execute_result"
    }
   ],
   "source": [
    "test['distance'].sort_values(ascending=False)"
   ]
  },
  {
   "cell_type": "markdown",
   "metadata": {},
   "source": [
    "##### we have splitted the pickup date time variable into different variables like month, year, day etc and we have created distance using pickup and drop longitudes and latitudes so we will drop pickup date time, pickup and drop longitudes and latitudes variables."
   ]
  },
  {
   "cell_type": "code",
   "execution_count": 350,
   "metadata": {},
   "outputs": [],
   "source": [
    "train_col_drop = ['pickup_datetime', 'pickup_longitude', 'pickup_latitude', 'dropoff_longitude', 'dropoff_latitude', 'Minute']\n",
    "train = train.drop(train_col_drop, axis = 1)"
   ]
  },
  {
   "cell_type": "code",
   "execution_count": 351,
   "metadata": {},
   "outputs": [
    {
     "data": {
      "text/html": [
       "<div>\n",
       "<style scoped>\n",
       "    .dataframe tbody tr th:only-of-type {\n",
       "        vertical-align: middle;\n",
       "    }\n",
       "\n",
       "    .dataframe tbody tr th {\n",
       "        vertical-align: top;\n",
       "    }\n",
       "\n",
       "    .dataframe thead th {\n",
       "        text-align: right;\n",
       "    }\n",
       "</style>\n",
       "<table border=\"1\" class=\"dataframe\">\n",
       "  <thead>\n",
       "    <tr style=\"text-align: right;\">\n",
       "      <th></th>\n",
       "      <th>fare_amount</th>\n",
       "      <th>passenger_count</th>\n",
       "      <th>year</th>\n",
       "      <th>Month</th>\n",
       "      <th>Date</th>\n",
       "      <th>Day</th>\n",
       "      <th>Hour</th>\n",
       "      <th>distance</th>\n",
       "    </tr>\n",
       "  </thead>\n",
       "  <tbody>\n",
       "    <tr>\n",
       "      <th>0</th>\n",
       "      <td>4.5</td>\n",
       "      <td>1.0</td>\n",
       "      <td>2009</td>\n",
       "      <td>6</td>\n",
       "      <td>15</td>\n",
       "      <td>0</td>\n",
       "      <td>17</td>\n",
       "      <td>1.030764</td>\n",
       "    </tr>\n",
       "    <tr>\n",
       "      <th>1</th>\n",
       "      <td>16.9</td>\n",
       "      <td>1.0</td>\n",
       "      <td>2010</td>\n",
       "      <td>1</td>\n",
       "      <td>5</td>\n",
       "      <td>1</td>\n",
       "      <td>16</td>\n",
       "      <td>8.450134</td>\n",
       "    </tr>\n",
       "    <tr>\n",
       "      <th>2</th>\n",
       "      <td>5.7</td>\n",
       "      <td>2.0</td>\n",
       "      <td>2011</td>\n",
       "      <td>8</td>\n",
       "      <td>18</td>\n",
       "      <td>3</td>\n",
       "      <td>0</td>\n",
       "      <td>1.389525</td>\n",
       "    </tr>\n",
       "    <tr>\n",
       "      <th>3</th>\n",
       "      <td>7.7</td>\n",
       "      <td>1.0</td>\n",
       "      <td>2012</td>\n",
       "      <td>4</td>\n",
       "      <td>21</td>\n",
       "      <td>5</td>\n",
       "      <td>4</td>\n",
       "      <td>2.799270</td>\n",
       "    </tr>\n",
       "    <tr>\n",
       "      <th>4</th>\n",
       "      <td>5.3</td>\n",
       "      <td>1.0</td>\n",
       "      <td>2010</td>\n",
       "      <td>3</td>\n",
       "      <td>9</td>\n",
       "      <td>1</td>\n",
       "      <td>7</td>\n",
       "      <td>1.999157</td>\n",
       "    </tr>\n",
       "  </tbody>\n",
       "</table>\n",
       "</div>"
      ],
      "text/plain": [
       "   fare_amount  passenger_count  year  Month  Date  Day  Hour  distance\n",
       "0          4.5              1.0  2009      6    15    0    17  1.030764\n",
       "1         16.9              1.0  2010      1     5    1    16  8.450134\n",
       "2          5.7              2.0  2011      8    18    3     0  1.389525\n",
       "3          7.7              1.0  2012      4    21    5     4  2.799270\n",
       "4          5.3              1.0  2010      3     9    1     7  1.999157"
      ]
     },
     "execution_count": 351,
     "metadata": {},
     "output_type": "execute_result"
    }
   ],
   "source": [
    "train.head()"
   ]
  },
  {
   "cell_type": "code",
   "execution_count": 352,
   "metadata": {},
   "outputs": [
    {
     "data": {
      "text/plain": [
       "fare_amount        float64\n",
       "passenger_count    float64\n",
       "year                 int64\n",
       "Month                int64\n",
       "Date                 int64\n",
       "Day                  int64\n",
       "Hour                 int64\n",
       "distance           float64\n",
       "dtype: object"
      ]
     },
     "execution_count": 352,
     "metadata": {},
     "output_type": "execute_result"
    }
   ],
   "source": [
    "train.dtypes"
   ]
  },
  {
   "cell_type": "code",
   "execution_count": 353,
   "metadata": {},
   "outputs": [
    {
     "data": {
      "text/plain": [
       "fare_amount        float64\n",
       "passenger_count      int64\n",
       "year                 int64\n",
       "Month                int64\n",
       "Date                 int64\n",
       "Day                  int64\n",
       "Hour                 int64\n",
       "distance           float64\n",
       "dtype: object"
      ]
     },
     "execution_count": 353,
     "metadata": {},
     "output_type": "execute_result"
    }
   ],
   "source": [
    "train['passenger_count'] = train['passenger_count'].astype('int64')\n",
    "train.dtypes"
   ]
  },
  {
   "cell_type": "code",
   "execution_count": 354,
   "metadata": {},
   "outputs": [
    {
     "data": {
      "text/plain": [
       "fare_amount        0\n",
       "passenger_count    0\n",
       "year               0\n",
       "Month              0\n",
       "Date               0\n",
       "Day                0\n",
       "Hour               0\n",
       "distance           0\n",
       "dtype: int64"
      ]
     },
     "execution_count": 354,
     "metadata": {},
     "output_type": "execute_result"
    }
   ],
   "source": [
    "train.isnull().sum()"
   ]
  },
  {
   "cell_type": "code",
   "execution_count": 355,
   "metadata": {},
   "outputs": [
    {
     "data": {
      "text/plain": [
       "(15425, 8)"
      ]
     },
     "execution_count": 355,
     "metadata": {},
     "output_type": "execute_result"
    }
   ],
   "source": [
    "train.shape"
   ]
  },
  {
   "cell_type": "code",
   "execution_count": 356,
   "metadata": {},
   "outputs": [],
   "source": [
    "test_col_drop = ['pickup_datetime', 'pickup_longitude', 'pickup_latitude', 'dropoff_longitude', 'dropoff_latitude', 'Minute']\n",
    "test = test.drop(test_col_drop, axis = 1)"
   ]
  },
  {
   "cell_type": "code",
   "execution_count": 357,
   "metadata": {},
   "outputs": [
    {
     "data": {
      "text/html": [
       "<div>\n",
       "<style scoped>\n",
       "    .dataframe tbody tr th:only-of-type {\n",
       "        vertical-align: middle;\n",
       "    }\n",
       "\n",
       "    .dataframe tbody tr th {\n",
       "        vertical-align: top;\n",
       "    }\n",
       "\n",
       "    .dataframe thead th {\n",
       "        text-align: right;\n",
       "    }\n",
       "</style>\n",
       "<table border=\"1\" class=\"dataframe\">\n",
       "  <thead>\n",
       "    <tr style=\"text-align: right;\">\n",
       "      <th></th>\n",
       "      <th>passenger_count</th>\n",
       "      <th>year</th>\n",
       "      <th>Month</th>\n",
       "      <th>Date</th>\n",
       "      <th>Day</th>\n",
       "      <th>Hour</th>\n",
       "      <th>distance</th>\n",
       "    </tr>\n",
       "  </thead>\n",
       "  <tbody>\n",
       "    <tr>\n",
       "      <th>0</th>\n",
       "      <td>1</td>\n",
       "      <td>2015</td>\n",
       "      <td>1</td>\n",
       "      <td>27</td>\n",
       "      <td>1</td>\n",
       "      <td>13</td>\n",
       "      <td>2.323259</td>\n",
       "    </tr>\n",
       "    <tr>\n",
       "      <th>1</th>\n",
       "      <td>1</td>\n",
       "      <td>2015</td>\n",
       "      <td>1</td>\n",
       "      <td>27</td>\n",
       "      <td>1</td>\n",
       "      <td>13</td>\n",
       "      <td>2.425353</td>\n",
       "    </tr>\n",
       "    <tr>\n",
       "      <th>2</th>\n",
       "      <td>1</td>\n",
       "      <td>2011</td>\n",
       "      <td>10</td>\n",
       "      <td>8</td>\n",
       "      <td>5</td>\n",
       "      <td>11</td>\n",
       "      <td>0.618628</td>\n",
       "    </tr>\n",
       "    <tr>\n",
       "      <th>3</th>\n",
       "      <td>1</td>\n",
       "      <td>2012</td>\n",
       "      <td>12</td>\n",
       "      <td>1</td>\n",
       "      <td>5</td>\n",
       "      <td>21</td>\n",
       "      <td>1.961033</td>\n",
       "    </tr>\n",
       "    <tr>\n",
       "      <th>4</th>\n",
       "      <td>1</td>\n",
       "      <td>2012</td>\n",
       "      <td>12</td>\n",
       "      <td>1</td>\n",
       "      <td>5</td>\n",
       "      <td>21</td>\n",
       "      <td>5.387301</td>\n",
       "    </tr>\n",
       "  </tbody>\n",
       "</table>\n",
       "</div>"
      ],
      "text/plain": [
       "   passenger_count  year  Month  Date  Day  Hour  distance\n",
       "0                1  2015      1    27    1    13  2.323259\n",
       "1                1  2015      1    27    1    13  2.425353\n",
       "2                1  2011     10     8    5    11  0.618628\n",
       "3                1  2012     12     1    5    21  1.961033\n",
       "4                1  2012     12     1    5    21  5.387301"
      ]
     },
     "execution_count": 357,
     "metadata": {},
     "output_type": "execute_result"
    }
   ],
   "source": [
    "test.head()"
   ]
  },
  {
   "cell_type": "code",
   "execution_count": 358,
   "metadata": {},
   "outputs": [
    {
     "data": {
      "text/plain": [
       "passenger_count      int64\n",
       "year                 int64\n",
       "Month                int64\n",
       "Date                 int64\n",
       "Day                  int64\n",
       "Hour                 int64\n",
       "distance           float64\n",
       "dtype: object"
      ]
     },
     "execution_count": 358,
     "metadata": {},
     "output_type": "execute_result"
    }
   ],
   "source": [
    "test.dtypes"
   ]
  },
  {
   "cell_type": "code",
   "execution_count": 359,
   "metadata": {},
   "outputs": [
    {
     "data": {
      "text/plain": [
       "passenger_count    0\n",
       "year               0\n",
       "Month              0\n",
       "Date               0\n",
       "Day                0\n",
       "Hour               0\n",
       "distance           0\n",
       "dtype: int64"
      ]
     },
     "execution_count": 359,
     "metadata": {},
     "output_type": "execute_result"
    }
   ],
   "source": [
    "test.isnull().sum()"
   ]
  },
  {
   "cell_type": "code",
   "execution_count": 360,
   "metadata": {},
   "outputs": [
    {
     "data": {
      "text/plain": [
       "(9829, 7)"
      ]
     },
     "execution_count": 360,
     "metadata": {},
     "output_type": "execute_result"
    }
   ],
   "source": [
    "test.shape"
   ]
  },
  {
   "cell_type": "code",
   "execution_count": 361,
   "metadata": {},
   "outputs": [],
   "source": [
    "#taking copy of the data\n",
    "\n",
    "train_data_df1 = train.copy()\n",
    "test_data_df1 = test.copy()\n",
    "\n",
    "#train = train_data_df1.copy()\n",
    "#test = test_data_df1.copy()"
   ]
  },
  {
   "cell_type": "markdown",
   "metadata": {},
   "source": [
    "#### boxplot and scatter plot analysis for outlier detection"
   ]
  },
  {
   "cell_type": "code",
   "execution_count": 362,
   "metadata": {},
   "outputs": [
    {
     "data": {
      "text/plain": [
       "{'whiskers': [<matplotlib.lines.Line2D at 0x7f685dfbd828>,\n",
       "  <matplotlib.lines.Line2D at 0x7f685dfbdb70>],\n",
       " 'caps': [<matplotlib.lines.Line2D at 0x7f685dfbdeb8>,\n",
       "  <matplotlib.lines.Line2D at 0x7f685dfb6240>],\n",
       " 'boxes': [<matplotlib.lines.Line2D at 0x7f685dfbd518>],\n",
       " 'medians': [<matplotlib.lines.Line2D at 0x7f685dfb6588>],\n",
       " 'fliers': [<matplotlib.lines.Line2D at 0x7f685dfb68d0>],\n",
       " 'means': []}"
      ]
     },
     "execution_count": 362,
     "metadata": {},
     "output_type": "execute_result"
    },
    {
     "data": {
      "image/png": "[encoded data removed]",
      "text/plain": [
       "<Figure size 432x288 with 1 Axes>"
      ]
     },
     "metadata": {
      "needs_background": "light"
     },
     "output_type": "display_data"
    }
   ],
   "source": [
    "# checking boxplot of continous variables\n",
    "\n",
    "%matplotlib inline\n",
    "plt.boxplot(train['fare_amount'])"
   ]
  },
  {
   "cell_type": "code",
   "execution_count": 363,
   "metadata": {},
   "outputs": [
    {
     "data": {
      "text/plain": [
       "{'whiskers': [<matplotlib.lines.Line2D at 0x7f685df2d5c0>,\n",
       "  <matplotlib.lines.Line2D at 0x7f685df2d908>],\n",
       " 'caps': [<matplotlib.lines.Line2D at 0x7f685df2dc50>,\n",
       "  <matplotlib.lines.Line2D at 0x7f685df2df98>],\n",
       " 'boxes': [<matplotlib.lines.Line2D at 0x7f685df2d2b0>],\n",
       " 'medians': [<matplotlib.lines.Line2D at 0x7f685df53320>],\n",
       " 'fliers': [<matplotlib.lines.Line2D at 0x7f685df53668>],\n",
       " 'means': []}"
      ]
     },
     "execution_count": 363,
     "metadata": {},
     "output_type": "execute_result"
    },
    {
     "data": {
      "image/png": "[encoded data removed]",
      "text/plain": [
       "<Figure size 432x288 with 1 Axes>"
      ]
     },
     "metadata": {
      "needs_background": "light"
     },
     "output_type": "display_data"
    }
   ],
   "source": [
    "# checking boxplot of continous variables\n",
    "plt.boxplot(train['distance'])"
   ]
  },
  {
   "cell_type": "code",
   "execution_count": 364,
   "metadata": {},
   "outputs": [
    {
     "data": {
      "image/png": "[encoded data removed]",
      "text/plain": [
       "<Figure size 432x288 with 1 Axes>"
      ]
     },
     "metadata": {
      "needs_background": "light"
     },
     "output_type": "display_data"
    }
   ],
   "source": [
    "# scatter plot on continous variables\n",
    "\n",
    "plt.scatter(x=train.fare_amount, y=train.index)\n",
    "plt.ylabel('Index')\n",
    "plt.xlabel('fare_amount')\n",
    "plt.show()"
   ]
  },
  {
   "cell_type": "code",
   "execution_count": 365,
   "metadata": {},
   "outputs": [
    {
     "data": {
      "image/png": "[encoded data removed]",
      "text/plain": [
       "<Figure size 432x288 with 1 Axes>"
      ]
     },
     "metadata": {
      "needs_background": "light"
     },
     "output_type": "display_data"
    }
   ],
   "source": [
    "# scatter plot on continous variables\n",
    "\n",
    "plt.scatter(x=train.distance, y=train.index)\n",
    "plt.ylabel('Index')\n",
    "plt.xlabel('distance')\n",
    "plt.show()"
   ]
  },
  {
   "cell_type": "markdown",
   "metadata": {},
   "source": [
    "##### from above scatter plots, it is clear that fare greater than 80 is outlier and distance greater than 30 km is outlier. so, drop the rows which includes fare greater than 80 and distance greater than 30 km."
   ]
  },
  {
   "cell_type": "code",
   "execution_count": 366,
   "metadata": {},
   "outputs": [
    {
     "data": {
      "text/plain": [
       "(15413, 8)"
      ]
     },
     "execution_count": 366,
     "metadata": {},
     "output_type": "execute_result"
    }
   ],
   "source": [
    "train = train.drop(train[train['fare_amount'] > 80].index, axis=0)\n",
    "train.shape"
   ]
  },
  {
   "cell_type": "code",
   "execution_count": 367,
   "metadata": {},
   "outputs": [
    {
     "data": {
      "text/plain": [
       "(15399, 8)"
      ]
     },
     "execution_count": 367,
     "metadata": {},
     "output_type": "execute_result"
    }
   ],
   "source": [
    "train = train.drop(train[train['distance'] > 30].index, axis=0)\n",
    "train.shape"
   ]
  },
  {
   "cell_type": "code",
   "execution_count": 368,
   "metadata": {},
   "outputs": [
    {
     "data": {
      "image/png": "[encoded data removed]",
      "text/plain": [
       "<Figure size 432x288 with 1 Axes>"
      ]
     },
     "metadata": {
      "needs_background": "light"
     },
     "output_type": "display_data"
    }
   ],
   "source": [
    "# scatter plot on continous variables after removing outlier\n",
    "\n",
    "plt.scatter(x=train.fare_amount, y=train.index)\n",
    "plt.ylabel('Index')\n",
    "plt.xlabel('fare_amount')\n",
    "plt.show()"
   ]
  },
  {
   "cell_type": "code",
   "execution_count": 369,
   "metadata": {},
   "outputs": [
    {
     "data": {
      "image/png": "[encoded data removed]",
      "text/plain": [
       "<Figure size 432x288 with 1 Axes>"
      ]
     },
     "metadata": {
      "needs_background": "light"
     },
     "output_type": "display_data"
    }
   ],
   "source": [
    "# scatter plot on continous variables after removing outlier\n",
    "\n",
    "plt.scatter(x=train.distance, y=train.index)\n",
    "plt.ylabel('Index')\n",
    "plt.xlabel('distance')\n",
    "plt.show()"
   ]
  },
  {
   "cell_type": "code",
   "execution_count": 370,
   "metadata": {},
   "outputs": [
    {
     "data": {
      "image/png": "[encoded data removed]",
      "text/plain": [
       "<Figure size 432x288 with 1 Axes>"
      ]
     },
     "metadata": {
      "needs_background": "light"
     },
     "output_type": "display_data"
    }
   ],
   "source": [
    "#Plot for fare_amount variation across distance\n",
    "\n",
    "plt.scatter(y=train['distance'], x=train['fare_amount'])\n",
    "plt.xlabel('fare')\n",
    "plt.ylabel('distance')\n",
    "plt.show()"
   ]
  },
  {
   "cell_type": "code",
   "execution_count": 371,
   "metadata": {},
   "outputs": [
    {
     "data": {
      "text/plain": [
       "<matplotlib.axes._subplots.AxesSubplot at 0x7f685ddee400>"
      ]
     },
     "execution_count": 371,
     "metadata": {},
     "output_type": "execute_result"
    },
    {
     "data": {
      "image/png": "[encoded data removed]",
      "text/plain": [
       "<Figure size 432x288 with 1 Axes>"
      ]
     },
     "metadata": {
      "needs_background": "light"
     },
     "output_type": "display_data"
    }
   ],
   "source": [
    "# Count plot on passenger count\n",
    "\n",
    "sns.countplot(train['passenger_count'])"
   ]
  },
  {
   "cell_type": "code",
   "execution_count": 372,
   "metadata": {},
   "outputs": [
    {
     "data": {
      "image/png": "[encoded data removed]",
      "text/plain": [
       "<Figure size 432x288 with 1 Axes>"
      ]
     },
     "metadata": {
      "needs_background": "light"
     },
     "output_type": "display_data"
    }
   ],
   "source": [
    "# check relationship between fare and passengers\n",
    "\n",
    "plt.scatter(x=train['passenger_count'], y=train['fare_amount'], s=10)\n",
    "plt.xlabel('No. of Passengers')\n",
    "plt.ylabel('Fare')\n",
    "plt.show()"
   ]
  },
  {
   "cell_type": "code",
   "execution_count": 373,
   "metadata": {},
   "outputs": [
    {
     "data": {
      "image/png": "[encoded data removed]",
      "text/plain": [
       "<Figure size 432x288 with 1 Axes>"
      ]
     },
     "metadata": {
      "needs_background": "light"
     },
     "output_type": "display_data"
    }
   ],
   "source": [
    "# check relationship between fare and date\n",
    "\n",
    "plt.scatter(x=train['Date'], y=train['fare_amount'], s=10)\n",
    "plt.xlabel('Dates')\n",
    "plt.ylabel('Fare')\n",
    "plt.show()"
   ]
  },
  {
   "cell_type": "code",
   "execution_count": 374,
   "metadata": {},
   "outputs": [
    {
     "data": {
      "image/png": "[encoded data removed]",
      "text/plain": [
       "<Figure size 432x288 with 1 Axes>"
      ]
     },
     "metadata": {
      "needs_background": "light"
     },
     "output_type": "display_data"
    }
   ],
   "source": [
    "# check relationship between fare and day\n",
    "\n",
    "plt.scatter(x=train['Day'], y=train['fare_amount'], s=10)\n",
    "plt.xlabel('Days')\n",
    "plt.ylabel('Fare')\n",
    "plt.show()"
   ]
  },
  {
   "cell_type": "code",
   "execution_count": 375,
   "metadata": {},
   "outputs": [
    {
     "data": {
      "image/png": "[encoded data removed]",
      "text/plain": [
       "<Figure size 432x288 with 1 Axes>"
      ]
     },
     "metadata": {
      "needs_background": "light"
     },
     "output_type": "display_data"
    }
   ],
   "source": [
    "# check relationship between fare and hour\n",
    "\n",
    "plt.scatter(x=train['Hour'], y=train['fare_amount'], s=10)\n",
    "plt.xlabel('Hours')\n",
    "plt.ylabel('Fare')\n",
    "plt.show()"
   ]
  },
  {
   "cell_type": "markdown",
   "metadata": {},
   "source": [
    "### Feature Selection"
   ]
  },
  {
   "cell_type": "code",
   "execution_count": 376,
   "metadata": {},
   "outputs": [
    {
     "data": {
      "text/plain": [
       "<matplotlib.axes._subplots.AxesSubplot at 0x7f685dbfd7b8>"
      ]
     },
     "execution_count": 376,
     "metadata": {},
     "output_type": "execute_result"
    },
    {
     "data": {
      "image/png": "[encoded data removed]",
      "text/plain": [
       "<Figure size 504x360 with 2 Axes>"
      ]
     },
     "metadata": {
      "needs_background": "light"
     },
     "output_type": "display_data"
    }
   ],
   "source": [
    "# Correlation Analysis\n",
    "# generating heatmap\n",
    "\n",
    "cnames = ['fare_amount', 'distance']\n",
    "df_corr = train.loc[:,cnames]\n",
    "f, ax = plt.subplots(figsize=(7, 5))\n",
    "\n",
    "# correlation matrix\n",
    "corr = df_corr.corr()\n",
    "\n",
    "sns.heatmap(corr, mask=np.zeros_like(corr, dtype=np.bool), cmap=sns.diverging_palette(220, 10, as_cmap=True), square=True, ax=ax)"
   ]
  },
  {
   "cell_type": "code",
   "execution_count": 377,
   "metadata": {},
   "outputs": [
    {
     "name": "stderr",
     "output_type": "stream",
     "text": [
      "/home/jupyterlab/conda/envs/python/lib/python3.6/site-packages/numpy/core/fromnumeric.py:2223: FutureWarning: Method .ptp is deprecated and will be removed in a future version. Use numpy.ptp instead.\n",
      "  return ptp(axis=axis, out=out, **kwargs)\n"
     ]
    },
    {
     "data": {
      "text/plain": [
       "const              1.174942e+06\n",
       "passenger_count    1.002393e+00\n",
       "year               1.015236e+00\n",
       "Month              1.015122e+00\n",
       "Date               1.001269e+00\n",
       "Day                1.010604e+00\n",
       "Hour               1.010584e+00\n",
       "distance           1.003526e+00\n",
       "dtype: float64"
      ]
     },
     "execution_count": 377,
     "metadata": {},
     "output_type": "execute_result"
    }
   ],
   "source": [
    "# checking VIF for multicolinerity\n",
    "\n",
    "from statsmodels.stats.outliers_influence import variance_inflation_factor\n",
    "from statsmodels.tools.tools import add_constant\n",
    "\n",
    "VIF_df = add_constant(train.iloc[:,1:8])\n",
    "pd.Series([variance_inflation_factor(VIF_df.values, i) \n",
    "               for i in range(VIF_df.shape[1])], \n",
    "              index=VIF_df.columns)"
   ]
  },
  {
   "cell_type": "code",
   "execution_count": 378,
   "metadata": {},
   "outputs": [],
   "source": [
    "#taking copy of the data\n",
    "\n",
    "train_data_df2 = train.copy()\n",
    "test_data_df2 = test.copy()\n",
    "\n",
    "#train = train_data_df2.copy()\n",
    "#test = test_data_df2.copy()"
   ]
  },
  {
   "cell_type": "markdown",
   "metadata": {},
   "source": [
    "##### from above VIF values are less than 10 for each variable, so there is no multicolinerity exists."
   ]
  },
  {
   "cell_type": "markdown",
   "metadata": {},
   "source": [
    "### Feature Scaling"
   ]
  },
  {
   "cell_type": "code",
   "execution_count": 379,
   "metadata": {},
   "outputs": [
    {
     "data": {
      "text/plain": [
       "(array([1.000e+00, 0.000e+00, 1.000e+00, 0.000e+00, 4.000e+01, 6.200e+01,\n",
       "        1.920e+02, 6.700e+02, 6.460e+02, 7.410e+02, 1.246e+03, 7.960e+02,\n",
       "        7.410e+02, 7.370e+02, 1.016e+03, 6.490e+02, 6.070e+02, 7.970e+02,\n",
       "        4.860e+02, 4.260e+02, 5.650e+02, 3.810e+02, 2.990e+02, 2.930e+02,\n",
       "        5.020e+02, 2.260e+02, 1.810e+02, 2.130e+02, 1.550e+02, 1.390e+02,\n",
       "        2.040e+02, 1.410e+02, 1.210e+02, 1.020e+02, 1.160e+02, 9.000e+01,\n",
       "        7.300e+01, 9.800e+01, 6.900e+01, 6.200e+01, 8.100e+01, 7.100e+01,\n",
       "        4.000e+01, 4.300e+01, 5.000e+01, 4.000e+01, 4.600e+01, 4.400e+01,\n",
       "        4.000e+01, 4.500e+01, 4.700e+01, 3.500e+01, 2.600e+01, 2.200e+01,\n",
       "        4.100e+01, 2.900e+01, 1.700e+01, 2.900e+01, 3.300e+01, 2.200e+01,\n",
       "        3.800e+01, 2.300e+01, 2.200e+01, 2.300e+01, 3.500e+01, 2.400e+01,\n",
       "        1.400e+01, 2.300e+01, 2.200e+01, 1.700e+01, 1.100e+01, 1.100e+01,\n",
       "        1.000e+01, 8.000e+00, 1.400e+01, 1.300e+01, 9.000e+00, 7.000e+00,\n",
       "        6.000e+00, 7.000e+00, 1.000e+01, 7.000e+00, 9.000e+00, 5.000e+00,\n",
       "        4.000e+00, 4.000e+00, 3.600e+01, 3.000e+00, 4.000e+00, 1.000e+00,\n",
       "        1.000e+00, 1.000e+00, 7.000e+00, 1.000e+00, 7.000e+00, 8.500e+01,\n",
       "        5.000e+00, 4.000e+00, 2.000e+00, 3.000e+00, 3.200e+01, 6.000e+00,\n",
       "        3.000e+00, 1.000e+00, 1.000e+00, 5.000e+00, 3.000e+00, 1.000e+00,\n",
       "        3.000e+00, 1.100e+01, 8.900e+01, 4.000e+00, 1.000e+00, 1.000e+00,\n",
       "        1.000e+00, 0.000e+00, 0.000e+00, 1.000e+00, 0.000e+00, 0.000e+00,\n",
       "        0.000e+00, 2.000e+00, 1.000e+00, 0.000e+00, 0.000e+00, 0.000e+00,\n",
       "        1.000e+00, 1.000e+00, 0.000e+00, 0.000e+00, 0.000e+00, 0.000e+00,\n",
       "        0.000e+00, 0.000e+00, 1.000e+00, 0.000e+00, 0.000e+00, 0.000e+00,\n",
       "        0.000e+00, 0.000e+00, 0.000e+00, 1.000e+00, 0.000e+00, 0.000e+00,\n",
       "        2.000e+00, 0.000e+00, 1.000e+00, 1.000e+00, 2.000e+00, 1.000e+00,\n",
       "        0.000e+00, 1.000e+00]),\n",
       " array([1.00000000e-02, 5.29671053e-01, 1.04934211e+00, 1.56901316e+00,\n",
       "        2.08868421e+00, 2.60835526e+00, 3.12802632e+00, 3.64769737e+00,\n",
       "        4.16736842e+00, 4.68703947e+00, 5.20671053e+00, 5.72638158e+00,\n",
       "        6.24605263e+00, 6.76572368e+00, 7.28539474e+00, 7.80506579e+00,\n",
       "        8.32473684e+00, 8.84440789e+00, 9.36407895e+00, 9.88375000e+00,\n",
       "        1.04034211e+01, 1.09230921e+01, 1.14427632e+01, 1.19624342e+01,\n",
       "        1.24821053e+01, 1.30017763e+01, 1.35214474e+01, 1.40411184e+01,\n",
       "        1.45607895e+01, 1.50804605e+01, 1.56001316e+01, 1.61198026e+01,\n",
       "        1.66394737e+01, 1.71591447e+01, 1.76788158e+01, 1.81984868e+01,\n",
       "        1.87181579e+01, 1.92378289e+01, 1.97575000e+01, 2.02771711e+01,\n",
       "        2.07968421e+01, 2.13165132e+01, 2.18361842e+01, 2.23558553e+01,\n",
       "        2.28755263e+01, 2.33951974e+01, 2.39148684e+01, 2.44345395e+01,\n",
       "        2.49542105e+01, 2.54738816e+01, 2.59935526e+01, 2.65132237e+01,\n",
       "        2.70328947e+01, 2.75525658e+01, 2.80722368e+01, 2.85919079e+01,\n",
       "        2.91115789e+01, 2.96312500e+01, 3.01509211e+01, 3.06705921e+01,\n",
       "        3.11902632e+01, 3.17099342e+01, 3.22296053e+01, 3.27492763e+01,\n",
       "        3.32689474e+01, 3.37886184e+01, 3.43082895e+01, 3.48279605e+01,\n",
       "        3.53476316e+01, 3.58673026e+01, 3.63869737e+01, 3.69066447e+01,\n",
       "        3.74263158e+01, 3.79459868e+01, 3.84656579e+01, 3.89853289e+01,\n",
       "        3.95050000e+01, 4.00246711e+01, 4.05443421e+01, 4.10640132e+01,\n",
       "        4.15836842e+01, 4.21033553e+01, 4.26230263e+01, 4.31426974e+01,\n",
       "        4.36623684e+01, 4.41820395e+01, 4.47017105e+01, 4.52213816e+01,\n",
       "        4.57410526e+01, 4.62607237e+01, 4.67803947e+01, 4.73000658e+01,\n",
       "        4.78197368e+01, 4.83394079e+01, 4.88590789e+01, 4.93787500e+01,\n",
       "        4.98984211e+01, 5.04180921e+01, 5.09377632e+01, 5.14574342e+01,\n",
       "        5.19771053e+01, 5.24967763e+01, 5.30164474e+01, 5.35361184e+01,\n",
       "        5.40557895e+01, 5.45754605e+01, 5.50951316e+01, 5.56148026e+01,\n",
       "        5.61344737e+01, 5.66541447e+01, 5.71738158e+01, 5.76934868e+01,\n",
       "        5.82131579e+01, 5.87328289e+01, 5.92525000e+01, 5.97721711e+01,\n",
       "        6.02918421e+01, 6.08115132e+01, 6.13311842e+01, 6.18508553e+01,\n",
       "        6.23705263e+01, 6.28901974e+01, 6.34098684e+01, 6.39295395e+01,\n",
       "        6.44492105e+01, 6.49688816e+01, 6.54885526e+01, 6.60082237e+01,\n",
       "        6.65278947e+01, 6.70475658e+01, 6.75672368e+01, 6.80869079e+01,\n",
       "        6.86065789e+01, 6.91262500e+01, 6.96459211e+01, 7.01655921e+01,\n",
       "        7.06852632e+01, 7.12049342e+01, 7.17246053e+01, 7.22442763e+01,\n",
       "        7.27639474e+01, 7.32836184e+01, 7.38032895e+01, 7.43229605e+01,\n",
       "        7.48426316e+01, 7.53623026e+01, 7.58819737e+01, 7.64016447e+01,\n",
       "        7.69213158e+01, 7.74409868e+01, 7.79606579e+01, 7.84803289e+01,\n",
       "        7.90000000e+01]),\n",
       " <a list of 152 Patch objects>)"
      ]
     },
     "execution_count": 379,
     "metadata": {},
     "output_type": "execute_result"
    },
    {
     "data": {
      "image/png": "[encoded data removed]",
      "text/plain": [
       "<Figure size 432x288 with 1 Axes>"
      ]
     },
     "metadata": {
      "needs_background": "light"
     },
     "output_type": "display_data"
    }
   ],
   "source": [
    "# check histogram of fare_amount variable\n",
    "\n",
    "plt.hist(train['fare_amount'], bins='auto')"
   ]
  },
  {
   "cell_type": "code",
   "execution_count": 380,
   "metadata": {},
   "outputs": [
    {
     "data": {
      "text/plain": [
       "(array([1.390e+02, 2.000e+02, 5.130e+02, 8.180e+02, 1.050e+03, 1.111e+03,\n",
       "        1.041e+03, 9.280e+02, 9.040e+02, 7.760e+02, 6.920e+02, 6.320e+02,\n",
       "        5.970e+02, 5.080e+02, 4.490e+02, 3.760e+02, 3.570e+02, 3.360e+02,\n",
       "        2.540e+02, 2.490e+02, 2.520e+02, 2.020e+02, 1.960e+02, 1.810e+02,\n",
       "        1.720e+02, 1.360e+02, 1.340e+02, 1.110e+02, 1.220e+02, 1.190e+02,\n",
       "        9.600e+01, 9.800e+01, 8.300e+01, 5.800e+01, 6.800e+01, 5.900e+01,\n",
       "        5.500e+01, 4.400e+01, 5.200e+01, 4.700e+01, 4.800e+01, 5.100e+01,\n",
       "        5.200e+01, 6.300e+01, 5.400e+01, 6.500e+01, 5.600e+01, 3.300e+01,\n",
       "        3.800e+01, 3.600e+01, 2.100e+01, 2.200e+01, 2.900e+01, 2.300e+01,\n",
       "        2.100e+01, 1.300e+01, 1.500e+01, 1.500e+01, 2.000e+01, 1.400e+01,\n",
       "        1.600e+01, 1.800e+01, 1.000e+01, 1.200e+01, 1.500e+01, 1.200e+01,\n",
       "        1.400e+01, 1.400e+01, 1.100e+01, 4.000e+00, 8.000e+00, 8.000e+00,\n",
       "        7.000e+00, 4.000e+00, 1.300e+01, 8.000e+00, 4.000e+00, 9.000e+00,\n",
       "        5.000e+00, 6.000e+00, 7.000e+00, 5.000e+00, 2.000e+00, 7.000e+00,\n",
       "        1.200e+01, 3.000e+00, 4.000e+00, 5.000e+00, 4.000e+00, 1.100e+01,\n",
       "        1.500e+01, 9.000e+00, 1.300e+01, 1.500e+01, 1.500e+01, 1.500e+01,\n",
       "        2.200e+01, 1.400e+01, 2.000e+01, 1.900e+01, 1.500e+01, 2.200e+01,\n",
       "        7.000e+00, 5.000e+00, 7.000e+00, 4.000e+00, 1.000e+00, 1.000e+00,\n",
       "        7.000e+00, 3.000e+00, 1.000e+00, 1.000e+00, 1.000e+00, 1.000e+00,\n",
       "        0.000e+00, 0.000e+00, 1.000e+00, 0.000e+00, 0.000e+00, 0.000e+00,\n",
       "        0.000e+00, 1.000e+00, 0.000e+00, 0.000e+00, 1.000e+00, 0.000e+00,\n",
       "        0.000e+00, 0.000e+00, 0.000e+00, 0.000e+00, 0.000e+00, 0.000e+00,\n",
       "        0.000e+00, 0.000e+00, 0.000e+00, 0.000e+00, 0.000e+00, 0.000e+00,\n",
       "        1.000e+00]),\n",
       " array([1.11194926e-04, 2.12184354e-01, 4.24257513e-01, 6.36330672e-01,\n",
       "        8.48403831e-01, 1.06047699e+00, 1.27255015e+00, 1.48462331e+00,\n",
       "        1.69669647e+00, 1.90876963e+00, 2.12084279e+00, 2.33291594e+00,\n",
       "        2.54498910e+00, 2.75706226e+00, 2.96913542e+00, 3.18120858e+00,\n",
       "        3.39328174e+00, 3.60535490e+00, 3.81742806e+00, 4.02950122e+00,\n",
       "        4.24157438e+00, 4.45364753e+00, 4.66572069e+00, 4.87779385e+00,\n",
       "        5.08986701e+00, 5.30194017e+00, 5.51401333e+00, 5.72608649e+00,\n",
       "        5.93815965e+00, 6.15023281e+00, 6.36230597e+00, 6.57437912e+00,\n",
       "        6.78645228e+00, 6.99852544e+00, 7.21059860e+00, 7.42267176e+00,\n",
       "        7.63474492e+00, 7.84681808e+00, 8.05889124e+00, 8.27096440e+00,\n",
       "        8.48303756e+00, 8.69511071e+00, 8.90718387e+00, 9.11925703e+00,\n",
       "        9.33133019e+00, 9.54340335e+00, 9.75547651e+00, 9.96754967e+00,\n",
       "        1.01796228e+01, 1.03916960e+01, 1.06037691e+01, 1.08158423e+01,\n",
       "        1.10279155e+01, 1.12399886e+01, 1.14520618e+01, 1.16641349e+01,\n",
       "        1.18762081e+01, 1.20882813e+01, 1.23003544e+01, 1.25124276e+01,\n",
       "        1.27245007e+01, 1.29365739e+01, 1.31486471e+01, 1.33607202e+01,\n",
       "        1.35727934e+01, 1.37848665e+01, 1.39969397e+01, 1.42090128e+01,\n",
       "        1.44210860e+01, 1.46331592e+01, 1.48452323e+01, 1.50573055e+01,\n",
       "        1.52693786e+01, 1.54814518e+01, 1.56935250e+01, 1.59055981e+01,\n",
       "        1.61176713e+01, 1.63297444e+01, 1.65418176e+01, 1.67538908e+01,\n",
       "        1.69659639e+01, 1.71780371e+01, 1.73901102e+01, 1.76021834e+01,\n",
       "        1.78142566e+01, 1.80263297e+01, 1.82384029e+01, 1.84504760e+01,\n",
       "        1.86625492e+01, 1.88746223e+01, 1.90866955e+01, 1.92987687e+01,\n",
       "        1.95108418e+01, 1.97229150e+01, 1.99349881e+01, 2.01470613e+01,\n",
       "        2.03591345e+01, 2.05712076e+01, 2.07832808e+01, 2.09953539e+01,\n",
       "        2.12074271e+01, 2.14195003e+01, 2.16315734e+01, 2.18436466e+01,\n",
       "        2.20557197e+01, 2.22677929e+01, 2.24798661e+01, 2.26919392e+01,\n",
       "        2.29040124e+01, 2.31160855e+01, 2.33281587e+01, 2.35402318e+01,\n",
       "        2.37523050e+01, 2.39643782e+01, 2.41764513e+01, 2.43885245e+01,\n",
       "        2.46005976e+01, 2.48126708e+01, 2.50247440e+01, 2.52368171e+01,\n",
       "        2.54488903e+01, 2.56609634e+01, 2.58730366e+01, 2.60851098e+01,\n",
       "        2.62971829e+01, 2.65092561e+01, 2.67213292e+01, 2.69334024e+01,\n",
       "        2.71454755e+01, 2.73575487e+01, 2.75696219e+01, 2.77816950e+01,\n",
       "        2.79937682e+01, 2.82058413e+01, 2.84179145e+01, 2.86299877e+01,\n",
       "        2.88420608e+01, 2.90541340e+01, 2.92662071e+01, 2.94782803e+01]),\n",
       " <a list of 139 Patch objects>)"
      ]
     },
     "execution_count": 380,
     "metadata": {},
     "output_type": "execute_result"
    },
    {
     "data": {
      "image/png": "[encoded data removed]",
      "text/plain": [
       "<Figure size 432x288 with 1 Axes>"
      ]
     },
     "metadata": {
      "needs_background": "light"
     },
     "output_type": "display_data"
    }
   ],
   "source": [
    "# check histogram of distance variable\n",
    "\n",
    "plt.hist(train['distance'], bins='auto')"
   ]
  },
  {
   "cell_type": "code",
   "execution_count": 381,
   "metadata": {},
   "outputs": [
    {
     "name": "stdout",
     "output_type": "stream",
     "text": [
      "fare_amount\n",
      "distance\n"
     ]
    }
   ],
   "source": [
    "# performing normalization\n",
    "\n",
    "cnames = ['fare_amount', 'distance']\n",
    "for i in cnames:\n",
    "    print(i)\n",
    "    train[i] = (train[i] - train[i].min())/(train[i].max() - train[i].min())"
   ]
  },
  {
   "cell_type": "code",
   "execution_count": 382,
   "metadata": {},
   "outputs": [
    {
     "data": {
      "text/html": [
       "<div>\n",
       "<style scoped>\n",
       "    .dataframe tbody tr th:only-of-type {\n",
       "        vertical-align: middle;\n",
       "    }\n",
       "\n",
       "    .dataframe tbody tr th {\n",
       "        vertical-align: top;\n",
       "    }\n",
       "\n",
       "    .dataframe thead th {\n",
       "        text-align: right;\n",
       "    }\n",
       "</style>\n",
       "<table border=\"1\" class=\"dataframe\">\n",
       "  <thead>\n",
       "    <tr style=\"text-align: right;\">\n",
       "      <th></th>\n",
       "      <th>fare_amount</th>\n",
       "      <th>passenger_count</th>\n",
       "      <th>year</th>\n",
       "      <th>Month</th>\n",
       "      <th>Date</th>\n",
       "      <th>Day</th>\n",
       "      <th>Hour</th>\n",
       "      <th>distance</th>\n",
       "    </tr>\n",
       "  </thead>\n",
       "  <tbody>\n",
       "    <tr>\n",
       "      <th>0</th>\n",
       "      <td>0.056843</td>\n",
       "      <td>1</td>\n",
       "      <td>2009</td>\n",
       "      <td>6</td>\n",
       "      <td>15</td>\n",
       "      <td>0</td>\n",
       "      <td>17</td>\n",
       "      <td>0.034963</td>\n",
       "    </tr>\n",
       "    <tr>\n",
       "      <th>1</th>\n",
       "      <td>0.213825</td>\n",
       "      <td>1</td>\n",
       "      <td>2010</td>\n",
       "      <td>1</td>\n",
       "      <td>5</td>\n",
       "      <td>1</td>\n",
       "      <td>16</td>\n",
       "      <td>0.286654</td>\n",
       "    </tr>\n",
       "    <tr>\n",
       "      <th>2</th>\n",
       "      <td>0.072034</td>\n",
       "      <td>2</td>\n",
       "      <td>2011</td>\n",
       "      <td>8</td>\n",
       "      <td>18</td>\n",
       "      <td>3</td>\n",
       "      <td>0</td>\n",
       "      <td>0.047134</td>\n",
       "    </tr>\n",
       "    <tr>\n",
       "      <th>3</th>\n",
       "      <td>0.097354</td>\n",
       "      <td>1</td>\n",
       "      <td>2012</td>\n",
       "      <td>4</td>\n",
       "      <td>21</td>\n",
       "      <td>5</td>\n",
       "      <td>4</td>\n",
       "      <td>0.094957</td>\n",
       "    </tr>\n",
       "    <tr>\n",
       "      <th>4</th>\n",
       "      <td>0.066971</td>\n",
       "      <td>1</td>\n",
       "      <td>2010</td>\n",
       "      <td>3</td>\n",
       "      <td>9</td>\n",
       "      <td>1</td>\n",
       "      <td>7</td>\n",
       "      <td>0.067814</td>\n",
       "    </tr>\n",
       "  </tbody>\n",
       "</table>\n",
       "</div>"
      ],
      "text/plain": [
       "   fare_amount  passenger_count  year  Month  Date  Day  Hour  distance\n",
       "0     0.056843                1  2009      6    15    0    17  0.034963\n",
       "1     0.213825                1  2010      1     5    1    16  0.286654\n",
       "2     0.072034                2  2011      8    18    3     0  0.047134\n",
       "3     0.097354                1  2012      4    21    5     4  0.094957\n",
       "4     0.066971                1  2010      3     9    1     7  0.067814"
      ]
     },
     "execution_count": 382,
     "metadata": {},
     "output_type": "execute_result"
    }
   ],
   "source": [
    "train.head()"
   ]
  },
  {
   "cell_type": "markdown",
   "metadata": {},
   "source": [
    "## Models Development"
   ]
  },
  {
   "cell_type": "code",
   "execution_count": 383,
   "metadata": {},
   "outputs": [],
   "source": [
    "# split train data into train and test\n",
    "X_train, X_test, y_train, y_test = train_test_split(train.iloc[:,1:8], train.iloc[:,0], test_size = 0.2, random_state = 1)"
   ]
  },
  {
   "cell_type": "code",
   "execution_count": 384,
   "metadata": {},
   "outputs": [
    {
     "name": "stdout",
     "output_type": "stream",
     "text": [
      "(12319, 7)\n",
      "(3080, 7)\n",
      "(12319,)\n",
      "(3080,)\n"
     ]
    }
   ],
   "source": [
    "print(X_train.shape)\n",
    "print(X_test.shape)\n",
    "print(y_train.shape)\n",
    "print(y_test.shape)"
   ]
  },
  {
   "cell_type": "markdown",
   "metadata": {},
   "source": [
    "### Linear Regression Model"
   ]
  },
  {
   "cell_type": "code",
   "execution_count": 385,
   "metadata": {},
   "outputs": [],
   "source": [
    "# Build model on train data\n",
    "LR = LinearRegression().fit(X_train , y_train)"
   ]
  },
  {
   "cell_type": "code",
   "execution_count": 386,
   "metadata": {},
   "outputs": [],
   "source": [
    "# predict on train data\n",
    "pred_train_LR = LR.predict(X_train)"
   ]
  },
  {
   "cell_type": "code",
   "execution_count": 387,
   "metadata": {},
   "outputs": [],
   "source": [
    "# predict on test data\n",
    "pred_test_LR = LR.predict(X_test)"
   ]
  },
  {
   "cell_type": "code",
   "execution_count": 388,
   "metadata": {},
   "outputs": [],
   "source": [
    "# Model Evaluation\n",
    "\n",
    "# calculate RMSE on train data\n",
    "RMSE_train_LR= np.sqrt(mean_squared_error(y_train, pred_train_LR))\n",
    "\n",
    "# calculate RMSE on test data\n",
    "RMSE_test_LR = np.sqrt(mean_squared_error(y_test, pred_test_LR))"
   ]
  },
  {
   "cell_type": "code",
   "execution_count": 389,
   "metadata": {},
   "outputs": [
    {
     "name": "stdout",
     "output_type": "stream",
     "text": [
      "RMSE on training data = 0.052256416549892305\n",
      "RMSE on test data = 0.05209296672134858\n"
     ]
    }
   ],
   "source": [
    "print(\"RMSE on training data = \"+str(RMSE_train_LR))\n",
    "print(\"RMSE on test data = \"+str(RMSE_test_LR))"
   ]
  },
  {
   "cell_type": "code",
   "execution_count": 390,
   "metadata": {},
   "outputs": [],
   "source": [
    "# calculate R^2 on train data\n",
    "r2_train_LR = r2_score(y_train, pred_train_LR)\n",
    "\n",
    "# calculate R^2 on test data\n",
    "r2_test_LR = r2_score(y_test, pred_test_LR)"
   ]
  },
  {
   "cell_type": "code",
   "execution_count": 391,
   "metadata": {},
   "outputs": [
    {
     "name": "stdout",
     "output_type": "stream",
     "text": [
      "r2 on training data = 0.7967162830547573\n",
      "r2 on test data = 0.7996915170530652\n"
     ]
    }
   ],
   "source": [
    "print(\"r2 on training data = \"+str(r2_train_LR))\n",
    "print(\"r2 on test data = \"+str(r2_test_LR))"
   ]
  },
  {
   "cell_type": "markdown",
   "metadata": {},
   "source": [
    "### Decision Tree Model"
   ]
  },
  {
   "cell_type": "code",
   "execution_count": 392,
   "metadata": {},
   "outputs": [],
   "source": [
    "# Build model on train data\n",
    "DT = DecisionTreeRegressor(max_depth = 2).fit(X_train, y_train)"
   ]
  },
  {
   "cell_type": "code",
   "execution_count": 393,
   "metadata": {},
   "outputs": [],
   "source": [
    "# predict on train data\n",
    "pred_train_DT = DT.predict(X_train)\n",
    "\n",
    "# predict on test data\n",
    "pred_test_DT = DT.predict(X_test)"
   ]
  },
  {
   "cell_type": "code",
   "execution_count": 394,
   "metadata": {},
   "outputs": [],
   "source": [
    "# Model Evaluation\n",
    "\n",
    "# calculate RMSE on train data\n",
    "RMSE_train_DT = np.sqrt(mean_squared_error(y_train, pred_train_DT))\n",
    "\n",
    "# calculate RMSE on test data\n",
    "RMSE_test_DT = np.sqrt(mean_squared_error(y_test, pred_test_DT))"
   ]
  },
  {
   "cell_type": "code",
   "execution_count": 395,
   "metadata": {},
   "outputs": [
    {
     "name": "stdout",
     "output_type": "stream",
     "text": [
      "RMSE on training data = 0.05882202678524862\n",
      "RMSE on test data = 0.0595765542682677\n"
     ]
    }
   ],
   "source": [
    "print(\"RMSE on training data = \"+str(RMSE_train_DT))\n",
    "print(\"RMSE on test data = \"+str(RMSE_test_DT))"
   ]
  },
  {
   "cell_type": "code",
   "execution_count": 396,
   "metadata": {},
   "outputs": [],
   "source": [
    "# calculate R^2 on train data\n",
    "r2_train_DT = r2_score(y_train, pred_train_DT)\n",
    "\n",
    "# calculate R^2 on test data\n",
    "r2_test_DT = r2_score(y_test, pred_test_DT)"
   ]
  },
  {
   "cell_type": "code",
   "execution_count": 397,
   "metadata": {},
   "outputs": [
    {
     "name": "stdout",
     "output_type": "stream",
     "text": [
      "r2 on training data = 0.7424252350137317\n",
      "r2 on test data = 0.7380056525207052\n"
     ]
    }
   ],
   "source": [
    "print(\"r2 on training data = \"+str(r2_train_DT))\n",
    "print(\"r2 on test data = \"+str(r2_test_DT))"
   ]
  },
  {
   "cell_type": "markdown",
   "metadata": {},
   "source": [
    "### Random Forest Model"
   ]
  },
  {
   "cell_type": "code",
   "execution_count": 398,
   "metadata": {},
   "outputs": [],
   "source": [
    "# Build model on train data\n",
    "RF = RandomForestRegressor(n_estimators = 300).fit(X_train, y_train)"
   ]
  },
  {
   "cell_type": "code",
   "execution_count": 399,
   "metadata": {},
   "outputs": [],
   "source": [
    "# predict on train data\n",
    "pred_train_RF = RF.predict(X_train)\n",
    "\n",
    "# predict on test data\n",
    "pred_test_RF = RF.predict(X_test)"
   ]
  },
  {
   "cell_type": "code",
   "execution_count": 400,
   "metadata": {},
   "outputs": [],
   "source": [
    "# Model Evaluation\n",
    "\n",
    "# calculate RMSE on train data\n",
    "RMSE_train_RF = np.sqrt(mean_squared_error(y_train, pred_train_RF))\n",
    "\n",
    "# calculate RMSE on test data\n",
    "RMSE_test_RF = np.sqrt(mean_squared_error(y_test, pred_test_RF))"
   ]
  },
  {
   "cell_type": "code",
   "execution_count": 401,
   "metadata": {},
   "outputs": [
    {
     "name": "stdout",
     "output_type": "stream",
     "text": [
      "RMSE on training data = 0.0188235582953822\n",
      "RMSE on test data = 0.053362956566434236\n"
     ]
    }
   ],
   "source": [
    "print(\"RMSE on training data = \"+str(RMSE_train_RF))\n",
    "print(\"RMSE on test data = \"+str(RMSE_test_RF))"
   ]
  },
  {
   "cell_type": "code",
   "execution_count": 402,
   "metadata": {},
   "outputs": [],
   "source": [
    "# calculate R^2 on train data\n",
    "r2_train_RF = r2_score(y_train, pred_train_RF)\n",
    "\n",
    "# calculate R^2 on test data\n",
    "r2_test_RF = r2_score(y_test, pred_test_RF)"
   ]
  },
  {
   "cell_type": "code",
   "execution_count": 403,
   "metadata": {},
   "outputs": [
    {
     "name": "stdout",
     "output_type": "stream",
     "text": [
      "r2 on training data = 0.9736229155518966\n",
      "r2 on test data = 0.7898057041771843\n"
     ]
    }
   ],
   "source": [
    "print(\"r2 on training data = \"+str(r2_train_RF))\n",
    "print(\"r2 on test data = \"+str(r2_test_RF))"
   ]
  },
  {
   "cell_type": "markdown",
   "metadata": {},
   "source": [
    "### Gradient Boosting"
   ]
  },
  {
   "cell_type": "code",
   "execution_count": 404,
   "metadata": {},
   "outputs": [],
   "source": [
    "# Build model on train data\n",
    "GB = GradientBoostingRegressor().fit(X_train, y_train)"
   ]
  },
  {
   "cell_type": "code",
   "execution_count": 405,
   "metadata": {},
   "outputs": [],
   "source": [
    "# predict on train data\n",
    "pred_train_GB = GB.predict(X_train)\n",
    "\n",
    "# predict on test data\n",
    "pred_test_GB = GB.predict(X_test)"
   ]
  },
  {
   "cell_type": "code",
   "execution_count": 406,
   "metadata": {},
   "outputs": [],
   "source": [
    "# Model Evaluation\n",
    "\n",
    "# calculate RMSE on train data\n",
    "RMSE_train_GB = np.sqrt(mean_squared_error(y_train, pred_train_GB))\n",
    "\n",
    "# calculate RMSE on test data\n",
    "RMSE_test_GB = np.sqrt(mean_squared_error(y_test, pred_test_GB))"
   ]
  },
  {
   "cell_type": "code",
   "execution_count": 407,
   "metadata": {},
   "outputs": [
    {
     "name": "stdout",
     "output_type": "stream",
     "text": [
      "RMSE on training data = 0.04283819595073212\n",
      "RMSE on test data = 0.05221474459579668\n"
     ]
    }
   ],
   "source": [
    "print(\"RMSE on training data = \"+str(RMSE_train_GB))\n",
    "print(\"RMSE on test data = \"+str(RMSE_test_GB))"
   ]
  },
  {
   "cell_type": "code",
   "execution_count": 408,
   "metadata": {},
   "outputs": [],
   "source": [
    "# calculate R^2 on train data\n",
    "r2_train_GB = r2_score(y_train, pred_train_GB)\n",
    "\n",
    "# calculate R^2 on test data\n",
    "r2_test_GB = r2_score(y_test, pred_test_GB)"
   ]
  },
  {
   "cell_type": "code",
   "execution_count": 409,
   "metadata": {},
   "outputs": [
    {
     "name": "stdout",
     "output_type": "stream",
     "text": [
      "r2 on training data = 0.8633889940883133\n",
      "r2 on test data = 0.7987538989912932\n"
     ]
    }
   ],
   "source": [
    "print(\"r2 on training data = \"+str(r2_train_GB))\n",
    "print(\"r2 on test data = \"+str(r2_test_GB))"
   ]
  },
  {
   "cell_type": "markdown",
   "metadata": {},
   "source": [
    "## Applying Hyper-parameter Tuning for optimizing the results"
   ]
  },
  {
   "cell_type": "markdown",
   "metadata": {},
   "source": [
    "##### there are two ways to apply hyper-parameter tuning\n",
    "##### 1. RandomizedSearchCV\n",
    "##### 2. GridSearchCV"
   ]
  },
  {
   "cell_type": "code",
   "execution_count": 410,
   "metadata": {},
   "outputs": [
    {
     "name": "stdout",
     "output_type": "stream",
     "text": [
      "RandomizedSearchCV - Random Forest Regressor Model Performance:\n",
      "Best Parameters =  {'n_estimators': 15, 'max_depth': 9}\n",
      "R-squared = 0.79.\n",
      "RMSE =  0.05360261946279395\n"
     ]
    }
   ],
   "source": [
    "# 1. RandomizedSearchCV\n",
    "\n",
    "from sklearn.model_selection import RandomizedSearchCV\n",
    "\n",
    "# RandomizedSearchCV on Random Forest Model\n",
    "\n",
    "RFR = RandomForestRegressor(random_state = 0)\n",
    "n_estimator = list(range(1,20,2))\n",
    "depth = list(range(1,100,2))\n",
    "\n",
    "# Create the random grid\n",
    "rand_grid = {'n_estimators': n_estimator, 'max_depth': depth}\n",
    "\n",
    "randomcv_rf = RandomizedSearchCV(RFR, param_distributions = rand_grid, n_iter = 5, cv = 5, random_state=0)\n",
    "randomcv_rf = randomcv_rf.fit(X_train, y_train)\n",
    "predictions_RFR = randomcv_rf.predict(X_test)\n",
    "\n",
    "best_params_RFR = randomcv_rf.best_params_\n",
    "\n",
    "best_estimator_RFR = randomcv_rf.best_estimator_\n",
    "\n",
    "predictions_RFR = best_estimator_RFR.predict(X_test)\n",
    "\n",
    "# calculate R^2\n",
    "RFR_r2 = r2_score(y_test, predictions_RFR)\n",
    "\n",
    "# calculate RMSE\n",
    "RFR_rmse = np.sqrt(mean_squared_error(y_test, predictions_RFR))\n",
    "\n",
    "print('RandomizedSearchCV - Random Forest Regressor Model Performance:')\n",
    "print('Best Parameters = ',best_params_RFR)\n",
    "print('R-squared = {:0.2}.'.format(RFR_r2))\n",
    "print('RMSE = ',RFR_rmse)"
   ]
  },
  {
   "cell_type": "code",
   "execution_count": 411,
   "metadata": {},
   "outputs": [
    {
     "name": "stdout",
     "output_type": "stream",
     "text": [
      "RandomizedSearchCV - Gradient Boosting Model Performance:\n",
      "Best Parameters =  {'n_estimators': 15, 'max_depth': 9}\n",
      "R-squared = 0.75.\n",
      "RMSE =  0.0579931618343988\n"
     ]
    }
   ],
   "source": [
    "# RandomizedSearchCV on gradient boosting model\n",
    "\n",
    "GBR = GradientBoostingRegressor(random_state = 0)\n",
    "n_estimator = list(range(1,20,2))\n",
    "depth = list(range(1,100,2))\n",
    "\n",
    "# Create the random grid\n",
    "rand_grid = {'n_estimators': n_estimator, 'max_depth': depth}\n",
    "\n",
    "randomcv_gb = RandomizedSearchCV(GBR, param_distributions = rand_grid, n_iter = 5, cv = 5, random_state=0)\n",
    "randomcv_gb = randomcv_gb.fit(X_train, y_train)\n",
    "predictions_gb = randomcv_gb.predict(X_test)\n",
    "\n",
    "best_params_gb = randomcv_gb.best_params_\n",
    "\n",
    "best_estimator_gb = randomcv_gb.best_estimator_\n",
    "\n",
    "predictions_gb = best_estimator_gb.predict(X_test)\n",
    "\n",
    "# calculate R^2\n",
    "gb_r2 = r2_score(y_test, predictions_gb)\n",
    "\n",
    "# calculate RMSE\n",
    "gb_rmse = np.sqrt(mean_squared_error(y_test, predictions_gb))\n",
    "\n",
    "print('RandomizedSearchCV - Gradient Boosting Model Performance:')\n",
    "print('Best Parameters = ',best_params_gb)\n",
    "print('R-squared = {:0.2}.'.format(gb_r2))\n",
    "print('RMSE = ', gb_rmse)"
   ]
  },
  {
   "cell_type": "code",
   "execution_count": 412,
   "metadata": {},
   "outputs": [
    {
     "name": "stdout",
     "output_type": "stream",
     "text": [
      "GridSearchCV - Random Forest Regressor Model Performance:\n",
      "Best Parameters =  {'max_depth': 5, 'n_estimators': 19}\n",
      "R-squared = 0.8.\n",
      "RMSE =  0.05243106129916764\n"
     ]
    }
   ],
   "source": [
    "# 2. GridSearchCV\n",
    "\n",
    "from sklearn.model_selection import GridSearchCV\n",
    "\n",
    "# GridSearchCV on Random Forest Model\n",
    "\n",
    "rfr_gs = RandomForestRegressor(random_state = 0)\n",
    "n_estimator = list(range(11,20,1))\n",
    "depth = list(range(5,15,2))\n",
    "\n",
    "# Create the grid\n",
    "grid_search = {'n_estimators': n_estimator, 'max_depth': depth}\n",
    "\n",
    "## Grid Search Cross-Validation with 5 fold CV\n",
    "gridcv_rf = GridSearchCV(rfr_gs, param_grid = grid_search, cv = 5)\n",
    "gridcv_rf = gridcv_rf.fit(X_train,y_train)\n",
    "\n",
    "best_params_GRF = gridcv_rf.best_params_\n",
    "best_estimator_GRF = gridcv_rf.best_estimator_\n",
    "\n",
    "#Apply model on test data\n",
    "predictions_GRF = best_estimator_GRF.predict(X_test)\n",
    "\n",
    "# calculate R^2\n",
    "GRF_r2 = r2_score(y_test, predictions_GRF)\n",
    "\n",
    "# calculate RMSE\n",
    "GRF_rmse = np.sqrt(mean_squared_error(y_test, predictions_GRF))\n",
    "\n",
    "print('GridSearchCV - Random Forest Regressor Model Performance:')\n",
    "print('Best Parameters = ',best_params_GRF)\n",
    "print('R-squared = {:0.2}.'.format(GRF_r2))\n",
    "print('RMSE = ',(GRF_rmse))"
   ]
  },
  {
   "cell_type": "code",
   "execution_count": 413,
   "metadata": {},
   "outputs": [
    {
     "name": "stdout",
     "output_type": "stream",
     "text": [
      "Grid Search CV Gradient Boosting regression Model Performance:\n",
      "Best Parameters =  {'max_depth': 5, 'n_estimators': 19}\n",
      "R-squared = 0.78.\n",
      "RMSE =  0.05445782146149547\n"
     ]
    }
   ],
   "source": [
    "# GridSearchCV on gradient boosting model\n",
    "\n",
    "gbr_gs = GradientBoostingRegressor(random_state = 0)\n",
    "n_estimator = list(range(11,20,1))\n",
    "depth = list(range(5,15,2))\n",
    "\n",
    "# Create the grid\n",
    "grid_search = {'n_estimators': n_estimator, 'max_depth': depth}\n",
    "\n",
    "# Grid Search Cross-Validation with 5 fold CV\n",
    "gridcv_gb = GridSearchCV(gbr_gs, param_grid = grid_search, cv = 5)\n",
    "gridcv_gb = gridcv_gb.fit(X_train,y_train)\n",
    "\n",
    "best_params_Ggb = gridcv_gb.best_params_\n",
    "best_estimator_Ggb = gridcv_gb.best_estimator_\n",
    "\n",
    "#Apply model on test data\n",
    "predictions_Ggb = best_estimator_Ggb.predict(X_test)\n",
    "\n",
    "# calculate R^2\n",
    "Ggb_r2 = r2_score(y_test, predictions_Ggb)\n",
    "\n",
    "# calculate RMSE\n",
    "Ggb_rmse = np.sqrt(mean_squared_error(y_test, predictions_Ggb))\n",
    "\n",
    "print('Grid Search CV Gradient Boosting regression Model Performance:')\n",
    "print('Best Parameters = ',best_params_Ggb)\n",
    "print('R-squared = {:0.2}.'.format(Ggb_r2))\n",
    "print('RMSE = ',(Ggb_rmse))"
   ]
  },
  {
   "cell_type": "markdown",
   "metadata": {},
   "source": [
    "##### from above models, it is clear that GridSearchCV on Random Forest Model is providing best results having R-squared = 0.8 and RMSE =  0.05243"
   ]
  },
  {
   "cell_type": "markdown",
   "metadata": {},
   "source": [
    "## Fare prediction on the Test data"
   ]
  },
  {
   "cell_type": "markdown",
   "metadata": {},
   "source": [
    "##### we have already cleaned the test dataset, so we are applying GridSearchCV on Random Forest Model on Test data.\n",
    "##### Let's create standalone model on entire training dataset."
   ]
  },
  {
   "cell_type": "code",
   "execution_count": 414,
   "metadata": {},
   "outputs": [],
   "source": [
    "train = train_data_df2.copy()"
   ]
  },
  {
   "cell_type": "code",
   "execution_count": 415,
   "metadata": {},
   "outputs": [],
   "source": [
    "X = train.drop('fare_amount', axis=1).values\n",
    "y = train['fare_amount'].values"
   ]
  },
  {
   "cell_type": "code",
   "execution_count": 416,
   "metadata": {},
   "outputs": [
    {
     "name": "stdout",
     "output_type": "stream",
     "text": [
      "(15399, 7)\n",
      "(15399,)\n"
     ]
    }
   ],
   "source": [
    "print(X.shape)\n",
    "print(y.shape)"
   ]
  },
  {
   "cell_type": "code",
   "execution_count": 417,
   "metadata": {},
   "outputs": [
    {
     "name": "stdout",
     "output_type": "stream",
     "text": [
      "Best Parameters =  {'max_depth': 7, 'n_estimators': 19}\n"
     ]
    }
   ],
   "source": [
    "# GridSearchCV for random Forest model - test data fare prediction\n",
    "\n",
    "rfr_test = RandomForestRegressor(random_state = 0)\n",
    "n_estimator = list(range(11,20,1))\n",
    "depth = list(range(5,15,2))\n",
    "\n",
    "# Create the grid\n",
    "grid_search = {'n_estimators': n_estimator, 'max_depth': depth}\n",
    "\n",
    "## Grid Search Cross-Validation with 5 fold CV\n",
    "gridcv_rf_test = GridSearchCV(rfr_test, param_grid = grid_search, cv = 5)\n",
    "gridcv_rf_test = gridcv_rf_test.fit(X, y)\n",
    "\n",
    "best_params_GRF_test = gridcv_rf_test.best_params_\n",
    "best_estimator_GRF_test = gridcv_rf_test.best_estimator_\n",
    "\n",
    "# Apply model on test data\n",
    "predictions_GRF_test = best_estimator_GRF_test.predict(test)\n",
    "\n",
    "print('Best Parameters = ',best_params_GRF_test)"
   ]
  },
  {
   "cell_type": "code",
   "execution_count": 418,
   "metadata": {},
   "outputs": [
    {
     "data": {
      "text/plain": [
       "array([ 9.83590464, 10.38009932,  5.00253711, ..., 45.68500105,\n",
       "       23.89626051,  6.02304042])"
      ]
     },
     "execution_count": 418,
     "metadata": {},
     "output_type": "execute_result"
    }
   ],
   "source": [
    "predictions_GRF_test"
   ]
  },
  {
   "cell_type": "code",
   "execution_count": 419,
   "metadata": {},
   "outputs": [],
   "source": [
    "test['Predicted_fare'] = predictions_GRF_test"
   ]
  },
  {
   "cell_type": "code",
   "execution_count": 420,
   "metadata": {},
   "outputs": [
    {
     "data": {
      "text/html": [
       "<div>\n",
       "<style scoped>\n",
       "    .dataframe tbody tr th:only-of-type {\n",
       "        vertical-align: middle;\n",
       "    }\n",
       "\n",
       "    .dataframe tbody tr th {\n",
       "        vertical-align: top;\n",
       "    }\n",
       "\n",
       "    .dataframe thead th {\n",
       "        text-align: right;\n",
       "    }\n",
       "</style>\n",
       "<table border=\"1\" class=\"dataframe\">\n",
       "  <thead>\n",
       "    <tr style=\"text-align: right;\">\n",
       "      <th></th>\n",
       "      <th>passenger_count</th>\n",
       "      <th>year</th>\n",
       "      <th>Month</th>\n",
       "      <th>Date</th>\n",
       "      <th>Day</th>\n",
       "      <th>Hour</th>\n",
       "      <th>distance</th>\n",
       "      <th>Predicted_fare</th>\n",
       "    </tr>\n",
       "  </thead>\n",
       "  <tbody>\n",
       "    <tr>\n",
       "      <th>0</th>\n",
       "      <td>1</td>\n",
       "      <td>2015</td>\n",
       "      <td>1</td>\n",
       "      <td>27</td>\n",
       "      <td>1</td>\n",
       "      <td>13</td>\n",
       "      <td>2.323259</td>\n",
       "      <td>9.835905</td>\n",
       "    </tr>\n",
       "    <tr>\n",
       "      <th>1</th>\n",
       "      <td>1</td>\n",
       "      <td>2015</td>\n",
       "      <td>1</td>\n",
       "      <td>27</td>\n",
       "      <td>1</td>\n",
       "      <td>13</td>\n",
       "      <td>2.425353</td>\n",
       "      <td>10.380099</td>\n",
       "    </tr>\n",
       "    <tr>\n",
       "      <th>2</th>\n",
       "      <td>1</td>\n",
       "      <td>2011</td>\n",
       "      <td>10</td>\n",
       "      <td>8</td>\n",
       "      <td>5</td>\n",
       "      <td>11</td>\n",
       "      <td>0.618628</td>\n",
       "      <td>5.002537</td>\n",
       "    </tr>\n",
       "    <tr>\n",
       "      <th>3</th>\n",
       "      <td>1</td>\n",
       "      <td>2012</td>\n",
       "      <td>12</td>\n",
       "      <td>1</td>\n",
       "      <td>5</td>\n",
       "      <td>21</td>\n",
       "      <td>1.961033</td>\n",
       "      <td>7.878283</td>\n",
       "    </tr>\n",
       "    <tr>\n",
       "      <th>4</th>\n",
       "      <td>1</td>\n",
       "      <td>2012</td>\n",
       "      <td>12</td>\n",
       "      <td>1</td>\n",
       "      <td>5</td>\n",
       "      <td>21</td>\n",
       "      <td>5.387301</td>\n",
       "      <td>15.531962</td>\n",
       "    </tr>\n",
       "  </tbody>\n",
       "</table>\n",
       "</div>"
      ],
      "text/plain": [
       "   passenger_count  year  Month  Date  Day  Hour  distance  Predicted_fare\n",
       "0                1  2015      1    27    1    13  2.323259        9.835905\n",
       "1                1  2015      1    27    1    13  2.425353       10.380099\n",
       "2                1  2011     10     8    5    11  0.618628        5.002537\n",
       "3                1  2012     12     1    5    21  1.961033        7.878283\n",
       "4                1  2012     12     1    5    21  5.387301       15.531962"
      ]
     },
     "execution_count": 420,
     "metadata": {},
     "output_type": "execute_result"
    }
   ],
   "source": [
    "test.head()"
   ]
  },
  {
   "cell_type": "code",
   "execution_count": 421,
   "metadata": {},
   "outputs": [],
   "source": [
    "test.to_csv('test_predicted.csv')"
   ]
  },
  {
   "cell_type": "code",
   "execution_count": null,
   "metadata": {},
   "outputs": [],
   "source": []
  }
 ],
 "metadata": {
  "kernelspec": {
   "display_name": "Python",
   "language": "python",
   "name": "conda-env-python-py"
  },
  "language_info": {
   "codemirror_mode": {
    "name": "ipython",
    "version": 3
   },
   "file_extension": ".py",
   "mimetype": "text/x-python",
   "name": "python",
   "nbconvert_exporter": "python",
   "pygments_lexer": "ipython3",
   "version": "3.6.7"
  }
 },
 "nbformat": 4,
 "nbformat_minor": 4
}
